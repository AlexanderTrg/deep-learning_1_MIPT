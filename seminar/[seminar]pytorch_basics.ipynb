{
 "cells": [
  {
   "cell_type": "markdown",
   "metadata": {
    "colab_type": "text",
    "id": "5RETQ6CxbdOz"
   },
   "source": [
    "<p style=\"align: center;\"><img align=center src=\"https://s8.hostingkartinok.com/uploads/images/2018/08/308b49fcfbc619d629fe4604bceb67ac.jpg\" width=500 height=450/></p>\n",
    "\n",
    "<h3 style=\"text-align: center;\"><b>\"Глубокое обучение\". Продвинутый поток</b></h3>\n",
    "\n",
    "<h2 style=\"text-align: center;\"><b>Семинар 6. Основы библиотеки Pythorch </b></h2>\n"
   ]
  },
  {
   "cell_type": "markdown",
   "metadata": {
    "colab_type": "text",
    "id": "vcnGdgw_YJ8u"
   },
   "source": [
    "<h2 style=\"text-align: center;\"><b>PyTorch basics: syntax, torch.cuda and torch.autograd</b></h2>"
   ]
  },
  {
   "cell_type": "markdown",
   "metadata": {
    "colab_type": "text",
    "id": "-Iv1eX2mYJ8v"
   },
   "source": [
    "<p style=\"align: center;\"><img src=\"https://upload.wikimedia.org/wikipedia/commons/9/96/Pytorch_logo.png\" width=400 height=100></p>"
   ]
  },
  {
   "cell_type": "markdown",
   "metadata": {
    "colab_type": "text",
    "id": "JwiKExhuYJ8w"
   },
   "source": [
    "Hi! In this notebook we will cover the basics of the **PyTorch deep learning framework**. "
   ]
  },
  {
   "cell_type": "markdown",
   "metadata": {
    "colab_type": "text",
    "id": "70_JTnaRbdPD"
   },
   "source": [
    "<h3 style=\"text-align: center;\"><b>Intro</b></h3>"
   ]
  },
  {
   "cell_type": "markdown",
   "metadata": {
    "colab_type": "text",
    "id": "8UBMClK6bdPE"
   },
   "source": [
    "**Frameworks** are the specific code libraries with their own internal structure and pipelines."
   ]
  },
  {
   "cell_type": "markdown",
   "metadata": {
    "colab_type": "text",
    "id": "tQoex-sZYJ8x"
   },
   "source": [
    "There are many deep learning frameworks nowadays (02/2019). The difference between them is in the internal computation principles. For example, in **[Caffe](http://caffe.berkeleyvision.org/)** and **[Caffe2](https://caffe2.ai/)** you write the code using some \"ready blocks\" (just like the $LEGO^{TM}$ :). In **[TensorFlow](https://www.tensorflow.org/)** and **[Theano](http://deeplearning.net/software/theano/)** you declare the computation graph at first, then compile it and use it for inference/training (`tf.session()`). By the way, now TensorFlow (since v1.10) has the [Eager Execution](https://www.tensorflow.org/guide/eager), which can be handy for fast prototyping and debugging. **[Keras](https://keras.io/)** is a very popular and useful DL framework that allows to create networks fast and has many demanding features. "
   ]
  },
  {
   "cell_type": "markdown",
   "metadata": {
    "colab_type": "text",
    "id": "97MX7yrBYJ8y"
   },
   "source": [
    "<p style=\"align: center;\"><img src=\"https://habrastorage.org/web/e3e/c3e/b78/e3ec3eb78d714a7993a6b922911c0866.png\" width=500 height=500></p>  \n",
    "<p style=\"text-align: center;\"><i>Image credit: https://habr.com/post/334380/</i><p>"
   ]
  },
  {
   "cell_type": "markdown",
   "metadata": {
    "colab_type": "text",
    "id": "h5yBQj7EbdPJ"
   },
   "source": [
    "We will use PyTorch bacause it's been actively developed and supported by the community and [Facebook AI Research](https://research.fb.com/category/facebook-ai-research/)."
   ]
  },
  {
   "cell_type": "markdown",
   "metadata": {
    "colab_type": "text",
    "id": "J74O-qdJYJ80"
   },
   "source": [
    "<h3 style=\"text-align: center;\"><b>Installation</b></h3>"
   ]
  },
  {
   "cell_type": "markdown",
   "metadata": {
    "colab_type": "text",
    "id": "WpXxZ4-4YJ83"
   },
   "source": [
    "The detailed instruction on how to install PyTorch you can find on the [official PyTorch website](https://pytorch.org/)."
   ]
  },
  {
   "cell_type": "markdown",
   "metadata": {
    "colab_type": "text",
    "id": "uxdjjnqIYJ86"
   },
   "source": [
    "<h3 style=\"text-align: center;\">Syntax<b></b></h3>"
   ]
  },
  {
   "cell_type": "code",
   "execution_count": 1,
   "metadata": {
    "colab": {},
    "colab_type": "code",
    "id": "RtyozNmmYJ89"
   },
   "outputs": [],
   "source": [
    "import torch"
   ]
  },
  {
   "cell_type": "markdown",
   "metadata": {
    "colab_type": "text",
    "id": "zjfLQzEPYJ9B"
   },
   "source": [
    "Some facts about PyTorch:  \n",
    "- dynamic computation graph\n",
    "- handy `torch.nn` and `torchvision` modules for fast neural network prototyping\n",
    "- even faster than TensorFlow on some tasks\n",
    "- allows to use GPU easily"
   ]
  },
  {
   "cell_type": "markdown",
   "metadata": {
    "colab_type": "text",
    "id": "0AL-T8TMYJ9D"
   },
   "source": [
    "If PyTorch was a formula, it would be:  \n",
    "\n",
    "$$PyTorch = NumPy + CUDA + Autograd$$"
   ]
  },
  {
   "cell_type": "markdown",
   "metadata": {
    "colab_type": "text",
    "id": "X_O59VXWYJ9E"
   },
   "source": [
    "(CUDA - [wiki](https://en.wikipedia.org/wiki/CUDA))"
   ]
  },
  {
   "cell_type": "markdown",
   "metadata": {
    "colab_type": "text",
    "id": "lWIeTFxSYJ9F"
   },
   "source": [
    "Let's see how we can use PyTorch to operate with vectors and tensors.  \n",
    "\n",
    "Recall that **a tensor** is a multidimensional vector, e.g. :  \n",
    "\n",
    "`x = np.array([1,2,3])` -- a vector = a tensor with 1 dimension (to be more precise: `(1,)`)  \n",
    "`y = np.array([[1, 2, 3], [4, 5, 6]])` -- a matrix = a tensor with 2 dimensions (`(2, 3)` in this case)  \n",
    "`z = np.array([[[1, 2, 3], [4, 5, 6], [7, 8, 9]],  \n",
    "               [[1, 2, 3], [4, 5, 6], [7, 8, 9]],  \n",
    "               [[1, 2, 3], [4, 5, 6], [7, 8, 9]]])` -- \"a cube\" (3, 3, 3) = a tensor with 3 dimensions (`(3, 3, 3)` in this case)"
   ]
  },
  {
   "cell_type": "markdown",
   "metadata": {
    "colab_type": "text",
    "id": "hS97vo7mYJ9G"
   },
   "source": [
    "One real example of 3-dimensional tensor is **an image**, it has 3 dimensions: `height`, `width` and the `channel depth` (= 3 for color images, 1 for a greyscale). You can think of it as of parallelepiped consisting of the real numbers."
   ]
  },
  {
   "cell_type": "markdown",
   "metadata": {
    "colab_type": "text",
    "id": "tEeGGtRiYJ9H"
   },
   "source": [
    "In PyTorch we will use `torch.Tensor` (`FloatTensor`, `IntTensor`, `ByteTensor`) for all the computations."
   ]
  },
  {
   "cell_type": "markdown",
   "metadata": {
    "colab_type": "text",
    "id": "byu7xZtLYJ9J"
   },
   "source": [
    "All tensor types:"
   ]
  },
  {
   "cell_type": "code",
   "execution_count": 3,
   "metadata": {
    "colab": {
     "base_uri": "https://localhost:8080/",
     "height": 35
    },
    "colab_type": "code",
    "executionInfo": {
     "elapsed": 1527,
     "status": "ok",
     "timestamp": 1587644736019,
     "user": {
      "displayName": "Артём Чумаченко",
      "photoUrl": "https://lh3.googleusercontent.com/a-/AOh14GgR2sxoXN9SKFaMK_eYAT7p7tjaPjW6aTcO35uD=s64",
      "userId": "16586051220000351113"
     },
     "user_tz": -180
    },
    "id": "zilSktmEGgAv",
    "outputId": "d399b390-b4bd-4367-f8d9-91f364905bd0"
   },
   "outputs": [
    {
     "data": {
      "text/plain": [
       "torch.ByteTensor"
      ]
     },
     "execution_count": 3,
     "metadata": {},
     "output_type": "execute_result"
    }
   ],
   "source": [
    "torch.HalfTensor      # 16 бит, floating point\n",
    "torch.FloatTensor     # 32 бита, floating point\n",
    "torch.DoubleTensor    # 64 бита, floating point\n",
    "\n",
    "torch.ShortTensor     # 16 бит, integer, signed\n",
    "torch.IntTensor       # 32 бита, integer, signed\n",
    "torch.LongTensor      # 64 бита, integer, signed\n",
    "\n",
    "torch.CharTensor      # 8 бит, integer, signed\n",
    "torch.ByteTensor      # 8 бит, integer, unsigned"
   ]
  },
  {
   "cell_type": "markdown",
   "metadata": {
    "colab_type": "text",
    "id": "NWk2gidNYJ9P"
   },
   "source": [
    "We will use only `torch.FloatTensor()` and `torch.IntTensor()`. "
   ]
  },
  {
   "cell_type": "markdown",
   "metadata": {
    "colab_type": "text",
    "id": "CllyEKvVYJ9Q"
   },
   "source": [
    "Let's begin to do something!"
   ]
  },
  {
   "cell_type": "markdown",
   "metadata": {
    "colab_type": "text",
    "id": "R4HEetsxYJ9Q"
   },
   "source": [
    "* Creating the tensor:"
   ]
  },
  {
   "cell_type": "code",
   "execution_count": 2,
   "metadata": {
    "colab": {
     "base_uri": "https://localhost:8080/",
     "height": 35
    },
    "colab_type": "code",
    "executionInfo": {
     "elapsed": 1641,
     "status": "ok",
     "timestamp": 1587733357047,
     "user": {
      "displayName": "Артём Чумаченко",
      "photoUrl": "https://lh3.googleusercontent.com/a-/AOh14GgR2sxoXN9SKFaMK_eYAT7p7tjaPjW6aTcO35uD=s64",
      "userId": "16586051220000351113"
     },
     "user_tz": -180
    },
    "id": "MVawE9lRYJ9R",
    "outputId": "45ad8d76-a4d9-4f57-d422-30eba5551527"
   },
   "outputs": [
    {
     "data": {
      "text/plain": [
       "tensor([1., 2.])"
      ]
     },
     "execution_count": 2,
     "metadata": {},
     "output_type": "execute_result"
    }
   ],
   "source": [
    "a = torch.FloatTensor([1, 2])\n",
    "a\n"
   ]
  },
  {
   "cell_type": "code",
   "execution_count": 3,
   "metadata": {
    "colab": {
     "base_uri": "https://localhost:8080/",
     "height": 35
    },
    "colab_type": "code",
    "executionInfo": {
     "elapsed": 1004,
     "status": "ok",
     "timestamp": 1587733360581,
     "user": {
      "displayName": "Артём Чумаченко",
      "photoUrl": "https://lh3.googleusercontent.com/a-/AOh14GgR2sxoXN9SKFaMK_eYAT7p7tjaPjW6aTcO35uD=s64",
      "userId": "16586051220000351113"
     },
     "user_tz": -180
    },
    "id": "ARjaPS_GYJ9W",
    "outputId": "00e2e74a-2fbd-4456-8575-d3c5af0acaa3"
   },
   "outputs": [
    {
     "data": {
      "text/plain": [
       "torch.Size([2])"
      ]
     },
     "execution_count": 3,
     "metadata": {},
     "output_type": "execute_result"
    }
   ],
   "source": [
    "a.shape"
   ]
  },
  {
   "cell_type": "code",
   "execution_count": 4,
   "metadata": {
    "colab": {
     "base_uri": "https://localhost:8080/",
     "height": 53
    },
    "colab_type": "code",
    "executionInfo": {
     "elapsed": 2197,
     "status": "ok",
     "timestamp": 1587733366095,
     "user": {
      "displayName": "Артём Чумаченко",
      "photoUrl": "https://lh3.googleusercontent.com/a-/AOh14GgR2sxoXN9SKFaMK_eYAT7p7tjaPjW6aTcO35uD=s64",
      "userId": "16586051220000351113"
     },
     "user_tz": -180
    },
    "id": "4gXf0akDYJ9Z",
    "outputId": "44b8b6cb-78af-4f73-dbc9-4d9021c47ab3"
   },
   "outputs": [
    {
     "data": {
      "text/plain": [
       "tensor([[1., 2., 3.],\n",
       "        [4., 5., 6.]])"
      ]
     },
     "execution_count": 4,
     "metadata": {},
     "output_type": "execute_result"
    }
   ],
   "source": [
    "b = torch.FloatTensor([[1,2,3], [4,5,6]])\n",
    "b"
   ]
  },
  {
   "cell_type": "code",
   "execution_count": 5,
   "metadata": {
    "colab": {
     "base_uri": "https://localhost:8080/",
     "height": 35
    },
    "colab_type": "code",
    "executionInfo": {
     "elapsed": 1390,
     "status": "ok",
     "timestamp": 1587733369878,
     "user": {
      "displayName": "Артём Чумаченко",
      "photoUrl": "https://lh3.googleusercontent.com/a-/AOh14GgR2sxoXN9SKFaMK_eYAT7p7tjaPjW6aTcO35uD=s64",
      "userId": "16586051220000351113"
     },
     "user_tz": -180
    },
    "id": "0HTkoIzpYJ9e",
    "outputId": "cff429ab-c34d-4d34-e55c-a6aaf19101fa"
   },
   "outputs": [
    {
     "data": {
      "text/plain": [
       "torch.Size([2, 3])"
      ]
     },
     "execution_count": 5,
     "metadata": {},
     "output_type": "execute_result"
    }
   ],
   "source": [
    "b.shape"
   ]
  },
  {
   "cell_type": "code",
   "execution_count": 6,
   "metadata": {
    "colab": {},
    "colab_type": "code",
    "id": "WYJ9L-yFYJ9j"
   },
   "outputs": [],
   "source": [
    "x = torch.FloatTensor(2,3,4)"
   ]
  },
  {
   "cell_type": "code",
   "execution_count": 7,
   "metadata": {
    "colab": {
     "base_uri": "https://localhost:8080/",
     "height": 142
    },
    "colab_type": "code",
    "executionInfo": {
     "elapsed": 1348,
     "status": "ok",
     "timestamp": 1587733384275,
     "user": {
      "displayName": "Артём Чумаченко",
      "photoUrl": "https://lh3.googleusercontent.com/a-/AOh14GgR2sxoXN9SKFaMK_eYAT7p7tjaPjW6aTcO35uD=s64",
      "userId": "16586051220000351113"
     },
     "user_tz": -180
    },
    "id": "qWAEP27IYJ9m",
    "outputId": "43b629f5-fc4d-4571-92a2-7bb57bb482be"
   },
   "outputs": [
    {
     "data": {
      "text/plain": [
       "tensor([[[9.2755e-39, 1.0561e-38, 1.0745e-38, 9.6429e-39],\n",
       "         [1.0745e-38, 8.4490e-39, 1.0102e-38, 9.0919e-39],\n",
       "         [1.0102e-38, 8.9082e-39, 8.4489e-39, 9.6429e-39]],\n",
       "\n",
       "        [[8.4490e-39, 9.6429e-39, 9.2755e-39, 1.0286e-38],\n",
       "         [9.0919e-39, 8.9082e-39, 9.2755e-39, 8.4490e-39],\n",
       "         [1.0194e-38, 9.0919e-39, 8.4490e-39, 1.0102e-38]]])"
      ]
     },
     "execution_count": 7,
     "metadata": {},
     "output_type": "execute_result"
    }
   ],
   "source": [
    "x"
   ]
  },
  {
   "cell_type": "code",
   "execution_count": 8,
   "metadata": {
    "colab": {
     "base_uri": "https://localhost:8080/",
     "height": 321
    },
    "colab_type": "code",
    "executionInfo": {
     "elapsed": 1165,
     "status": "ok",
     "timestamp": 1587733393930,
     "user": {
      "displayName": "Артём Чумаченко",
      "photoUrl": "https://lh3.googleusercontent.com/a-/AOh14GgR2sxoXN9SKFaMK_eYAT7p7tjaPjW6aTcO35uD=s64",
      "userId": "16586051220000351113"
     },
     "user_tz": -180
    },
    "id": "o5CsOJ_xYJ9s",
    "outputId": "e8de2b15-92bd-459c-dddc-56f4d0ebc9dc",
    "scrolled": true
   },
   "outputs": [
    {
     "data": {
      "text/plain": [
       "tensor([7.2056e+22, 2.1720e+29, 1.8057e+28, 5.1412e+31, 7.5338e+28, 6.1687e+16,\n",
       "        1.0141e-08, 5.3483e+22, 2.6318e-12, 6.3371e-10, 5.2304e+22, 2.6176e-12,\n",
       "        6.3371e-10, 5.3482e+22, 2.6176e-12, 2.5961e-06, 5.4660e+22, 8.3407e+17,\n",
       "        2.0190e-19, 1.3563e-19, 1.3563e-19, 6.3371e-10, 5.3482e+22, 2.6176e-12,\n",
       "        1.6225e-07, 5.2012e+22, 2.6318e-12, 6.3371e-10, 5.2592e+22, 2.6176e-12,\n",
       "        6.3382e-10, 5.4659e+22, 8.3407e+17, 2.0190e-19, 1.3563e-19, 1.3563e-19,\n",
       "        6.3371e-10, 5.2592e+22, 2.6176e-12, 1.6615e-04, 5.2601e+22, 2.6318e-12,\n",
       "        1.6225e-07, 5.4667e+22, 2.6318e-12, 2.5961e-06, 5.4660e+22, 8.3407e+17,\n",
       "        1.7035e+28, 1.3589e-19, 1.3563e-19, 6.1678e+16, 1.6781e-07, 1.3028e-11,\n",
       "        1.4588e-19, 1.6967e-07, 1.3030e-11, 1.4588e-19, 1.0620e-05, 1.3029e-11,\n",
       "        1.4588e-19, 1.0255e-08, 1.3029e-11, 3.1437e-12, 1.3589e-19, 1.3563e-19,\n",
       "        4.5071e+16, 1.6802e-04, 1.3030e-11, 1.4588e-19, 6.7368e-10, 1.3028e-11,\n",
       "        1.4588e-19, 1.0620e-05, 1.3029e-11, 1.4588e-19, 1.6781e-07, 1.3028e-11,\n",
       "        3.1438e-12, 1.3589e-19, 1.3563e-19, 4.5071e+16, 2.5638e-09, 1.3029e-11,\n",
       "        1.4588e-19, 1.6802e-04, 1.3030e-11, 1.4588e-19, 1.6781e-07, 1.3028e-11,\n",
       "        1.4588e-19, 2.5638e-09, 1.3028e-11, 9.9628e+17, 1.3472e+37, 6.9989e+22,\n",
       "        2.6330e+20, 6.1943e-04, 2.3377e-18, 4.2330e+21])"
      ]
     },
     "execution_count": 8,
     "metadata": {},
     "output_type": "execute_result"
    }
   ],
   "source": [
    "x = torch.FloatTensor(100)\n",
    "x"
   ]
  },
  {
   "cell_type": "code",
   "execution_count": 9,
   "metadata": {
    "colab": {
     "base_uri": "https://localhost:8080/",
     "height": 35
    },
    "colab_type": "code",
    "executionInfo": {
     "elapsed": 1413,
     "status": "ok",
     "timestamp": 1587733401763,
     "user": {
      "displayName": "Артём Чумаченко",
      "photoUrl": "https://lh3.googleusercontent.com/a-/AOh14GgR2sxoXN9SKFaMK_eYAT7p7tjaPjW6aTcO35uD=s64",
      "userId": "16586051220000351113"
     },
     "user_tz": -180
    },
    "id": "uIVhvmzZYJ91",
    "outputId": "ccd49c98-bf29-4be6-c185-d52b4b0a3dc3"
   },
   "outputs": [
    {
     "data": {
      "text/plain": [
       "torch.Size([45, 57, 14, 2])"
      ]
     },
     "execution_count": 9,
     "metadata": {},
     "output_type": "execute_result"
    }
   ],
   "source": [
    "x = torch.IntTensor(45, 57, 14, 2)\n",
    "x.shape"
   ]
  },
  {
   "cell_type": "markdown",
   "metadata": {
    "colab_type": "text",
    "id": "cUzl8DFRYJ95"
   },
   "source": [
    "**Note:** if you create `torch.Tensor` with the following constructor it will be filled with the \"random trash numbers\":"
   ]
  },
  {
   "cell_type": "code",
   "execution_count": 10,
   "metadata": {
    "colab": {
     "base_uri": "https://localhost:8080/",
     "height": 160
    },
    "colab_type": "code",
    "executionInfo": {
     "elapsed": 1276,
     "status": "ok",
     "timestamp": 1587733407733,
     "user": {
      "displayName": "Артём Чумаченко",
      "photoUrl": "https://lh3.googleusercontent.com/a-/AOh14GgR2sxoXN9SKFaMK_eYAT7p7tjaPjW6aTcO35uD=s64",
      "userId": "16586051220000351113"
     },
     "user_tz": -180
    },
    "id": "QX0QcIOzYJ96",
    "outputId": "6f758037-78ff-4cbf-8a3d-990adda0e162"
   },
   "outputs": [
    {
     "data": {
      "text/plain": [
       "tensor([[[7209071, 6357092, 6029363, 6881388],\n",
       "         [6029410, 6881395, 6619252, 7340077]],\n",
       "\n",
       "        [[6488161, 6357099, 6619239, 6029427],\n",
       "         [7274612, 6488178, 6029416, 7667825]],\n",
       "\n",
       "        [[7209057, 6881396, 6357114, 6881396],\n",
       "         [7209071, 7405660, 6357109, 7602286]]], dtype=torch.int32)"
      ]
     },
     "execution_count": 10,
     "metadata": {},
     "output_type": "execute_result"
    }
   ],
   "source": [
    "x = torch.IntTensor(3, 2, 4)\n",
    "x"
   ]
  },
  {
   "cell_type": "markdown",
   "metadata": {
    "colab_type": "text",
    "id": "utra2t4SbdQR"
   },
   "source": [
    "Here is a way to fill a new tensor with zeroes:"
   ]
  },
  {
   "cell_type": "code",
   "execution_count": 11,
   "metadata": {
    "colab": {
     "base_uri": "https://localhost:8080/",
     "height": 160
    },
    "colab_type": "code",
    "executionInfo": {
     "elapsed": 1036,
     "status": "ok",
     "timestamp": 1587733440679,
     "user": {
      "displayName": "Артём Чумаченко",
      "photoUrl": "https://lh3.googleusercontent.com/a-/AOh14GgR2sxoXN9SKFaMK_eYAT7p7tjaPjW6aTcO35uD=s64",
      "userId": "16586051220000351113"
     },
     "user_tz": -180
    },
    "id": "XV3w9lVwYJ-A",
    "outputId": "dbbda250-3f1a-49f8-9280-dd9b7b56413e"
   },
   "outputs": [
    {
     "data": {
      "text/plain": [
       "tensor([[[0., 0., 0., 0.],\n",
       "         [0., 0., 0., 0.]],\n",
       "\n",
       "        [[0., 0., 0., 0.],\n",
       "         [0., 0., 0., 0.]],\n",
       "\n",
       "        [[0., 0., 0., 0.],\n",
       "         [0., 0., 0., 0.]]])"
      ]
     },
     "execution_count": 11,
     "metadata": {},
     "output_type": "execute_result"
    }
   ],
   "source": [
    "x = torch.FloatTensor(3, 2, 4).zero_()\n",
    "x"
   ]
  },
  {
   "cell_type": "markdown",
   "metadata": {
    "colab_type": "text",
    "id": "bzq1klQuzXA9"
   },
   "source": [
    "## Numpy -> Torch\n",
    "\n",
    "All numpy function have its pair in torch.\n",
    "\n",
    "https://github.com/torch/torch7/wiki/Torch-for-Numpy-users"
   ]
  },
  {
   "cell_type": "markdown",
   "metadata": {
    "colab_type": "text",
    "id": "SAAmLRwzYJ-E"
   },
   "source": [
    "`np.reshape()` == `torch.view()`:"
   ]
  },
  {
   "cell_type": "code",
   "execution_count": 12,
   "metadata": {
    "colab": {
     "base_uri": "https://localhost:8080/",
     "height": 53
    },
    "colab_type": "code",
    "executionInfo": {
     "elapsed": 1062,
     "status": "ok",
     "timestamp": 1587733450013,
     "user": {
      "displayName": "Артём Чумаченко",
      "photoUrl": "https://lh3.googleusercontent.com/a-/AOh14GgR2sxoXN9SKFaMK_eYAT7p7tjaPjW6aTcO35uD=s64",
      "userId": "16586051220000351113"
     },
     "user_tz": -180
    },
    "id": "spMYG2xXYJ-L",
    "outputId": "6631ab57-a1f6-4f69-b344-0073756c17a2"
   },
   "outputs": [
    {
     "data": {
      "text/plain": [
       "tensor([[1., 2., 3.],\n",
       "        [4., 5., 6.]])"
      ]
     },
     "execution_count": 12,
     "metadata": {},
     "output_type": "execute_result"
    }
   ],
   "source": [
    "b"
   ]
  },
  {
   "cell_type": "code",
   "execution_count": 13,
   "metadata": {
    "colab": {
     "base_uri": "https://localhost:8080/",
     "height": 71
    },
    "colab_type": "code",
    "executionInfo": {
     "elapsed": 1776,
     "status": "ok",
     "timestamp": 1587733452493,
     "user": {
      "displayName": "Артём Чумаченко",
      "photoUrl": "https://lh3.googleusercontent.com/a-/AOh14GgR2sxoXN9SKFaMK_eYAT7p7tjaPjW6aTcO35uD=s64",
      "userId": "16586051220000351113"
     },
     "user_tz": -180
    },
    "id": "ePjL3X3GYJ-H",
    "outputId": "74747baa-d3e5-4037-e140-18fbf9910c58"
   },
   "outputs": [
    {
     "data": {
      "text/plain": [
       "tensor([[1., 2.],\n",
       "        [3., 4.],\n",
       "        [5., 6.]])"
      ]
     },
     "execution_count": 13,
     "metadata": {},
     "output_type": "execute_result"
    }
   ],
   "source": [
    "b.view(3, 2)"
   ]
  },
  {
   "cell_type": "code",
   "execution_count": 14,
   "metadata": {},
   "outputs": [
    {
     "data": {
      "text/plain": [
       "tensor([[1., 2., 3.],\n",
       "        [4., 5., 6.]])"
      ]
     },
     "execution_count": 14,
     "metadata": {},
     "output_type": "execute_result"
    }
   ],
   "source": [
    "b"
   ]
  },
  {
   "cell_type": "markdown",
   "metadata": {
    "colab_type": "text",
    "id": "amVu0N1zYJ-O"
   },
   "source": [
    "**Note:** `torch.view()` creates a new tensor, one the old one remains unchanged"
   ]
  },
  {
   "cell_type": "code",
   "execution_count": 15,
   "metadata": {
    "colab": {
     "base_uri": "https://localhost:8080/",
     "height": 35
    },
    "colab_type": "code",
    "executionInfo": {
     "elapsed": 1603,
     "status": "ok",
     "timestamp": 1587733458781,
     "user": {
      "displayName": "Артём Чумаченко",
      "photoUrl": "https://lh3.googleusercontent.com/a-/AOh14GgR2sxoXN9SKFaMK_eYAT7p7tjaPjW6aTcO35uD=s64",
      "userId": "16586051220000351113"
     },
     "user_tz": -180
    },
    "id": "hWqyugOSYJ-Q",
    "outputId": "c932d4c0-9d0a-4cd8-a539-aafd82dc28db"
   },
   "outputs": [
    {
     "data": {
      "text/plain": [
       "tensor([1., 2., 3., 4., 5., 6.])"
      ]
     },
     "execution_count": 15,
     "metadata": {},
     "output_type": "execute_result"
    }
   ],
   "source": [
    "b.view(-1)"
   ]
  },
  {
   "cell_type": "code",
   "execution_count": 16,
   "metadata": {
    "colab": {
     "base_uri": "https://localhost:8080/",
     "height": 53
    },
    "colab_type": "code",
    "executionInfo": {
     "elapsed": 2952,
     "status": "ok",
     "timestamp": 1587733465143,
     "user": {
      "displayName": "Артём Чумаченко",
      "photoUrl": "https://lh3.googleusercontent.com/a-/AOh14GgR2sxoXN9SKFaMK_eYAT7p7tjaPjW6aTcO35uD=s64",
      "userId": "16586051220000351113"
     },
     "user_tz": -180
    },
    "id": "S9CvF56uYJ-U",
    "outputId": "cc06f986-77f3-40b8-e2c6-9e342470cb00"
   },
   "outputs": [
    {
     "data": {
      "text/plain": [
       "tensor([[1., 2., 3.],\n",
       "        [4., 5., 6.]])"
      ]
     },
     "execution_count": 16,
     "metadata": {},
     "output_type": "execute_result"
    }
   ],
   "source": [
    "b"
   ]
  },
  {
   "cell_type": "markdown",
   "metadata": {
    "colab_type": "text",
    "id": "t401j1E2YJ-Z"
   },
   "source": [
    "* Change a tensor type:"
   ]
  },
  {
   "cell_type": "code",
   "execution_count": 19,
   "metadata": {
    "colab": {},
    "colab_type": "code",
    "id": "f_iDUEH4YJ-Z"
   },
   "outputs": [],
   "source": [
    "a = torch.FloatTensor([1.5, 3.2, -7])"
   ]
  },
  {
   "cell_type": "code",
   "execution_count": 20,
   "metadata": {},
   "outputs": [
    {
     "data": {
      "text/plain": [
       "tensor([ 1.5000,  3.2000, -7.0000])"
      ]
     },
     "execution_count": 20,
     "metadata": {},
     "output_type": "execute_result"
    }
   ],
   "source": [
    "a"
   ]
  },
  {
   "cell_type": "code",
   "execution_count": 21,
   "metadata": {
    "colab": {
     "base_uri": "https://localhost:8080/",
     "height": 35
    },
    "colab_type": "code",
    "executionInfo": {
     "elapsed": 2091,
     "status": "ok",
     "timestamp": 1587733475324,
     "user": {
      "displayName": "Артём Чумаченко",
      "photoUrl": "https://lh3.googleusercontent.com/a-/AOh14GgR2sxoXN9SKFaMK_eYAT7p7tjaPjW6aTcO35uD=s64",
      "userId": "16586051220000351113"
     },
     "user_tz": -180
    },
    "id": "EzJOrXitYJ-e",
    "outputId": "6e29edfe-ca13-4ce7-f89d-d34b0091f572"
   },
   "outputs": [
    {
     "data": {
      "text/plain": [
       "tensor([ 1,  3, -7], dtype=torch.int32)"
      ]
     },
     "execution_count": 21,
     "metadata": {},
     "output_type": "execute_result"
    }
   ],
   "source": [
    "a.type_as(torch.IntTensor())"
   ]
  },
  {
   "cell_type": "code",
   "execution_count": 22,
   "metadata": {
    "colab": {
     "base_uri": "https://localhost:8080/",
     "height": 35
    },
    "colab_type": "code",
    "executionInfo": {
     "elapsed": 1930,
     "status": "ok",
     "timestamp": 1587733475327,
     "user": {
      "displayName": "Артём Чумаченко",
      "photoUrl": "https://lh3.googleusercontent.com/a-/AOh14GgR2sxoXN9SKFaMK_eYAT7p7tjaPjW6aTcO35uD=s64",
      "userId": "16586051220000351113"
     },
     "user_tz": -180
    },
    "id": "hAe3OWWUYJ-i",
    "outputId": "ed7ce614-5e73-4240-fc44-6d8ec005895a"
   },
   "outputs": [
    {
     "data": {
      "text/plain": [
       "tensor([  1,   3, 249], dtype=torch.uint8)"
      ]
     },
     "execution_count": 22,
     "metadata": {},
     "output_type": "execute_result"
    }
   ],
   "source": [
    "a.type_as(torch.ByteTensor())"
   ]
  },
  {
   "cell_type": "code",
   "execution_count": 23,
   "metadata": {},
   "outputs": [
    {
     "data": {
      "text/plain": [
       "tensor([ 1.5000,  3.2000, -7.0000])"
      ]
     },
     "execution_count": 23,
     "metadata": {},
     "output_type": "execute_result"
    }
   ],
   "source": [
    "a"
   ]
  },
  {
   "cell_type": "markdown",
   "metadata": {
    "colab_type": "text",
    "id": "4rkatrUeYJ-n"
   },
   "source": [
    "**Note:** `.type_as()` creates a new tensor, the old one remains unchanged"
   ]
  },
  {
   "cell_type": "code",
   "execution_count": 26,
   "metadata": {
    "colab": {
     "base_uri": "https://localhost:8080/",
     "height": 35
    },
    "colab_type": "code",
    "executionInfo": {
     "elapsed": 1388,
     "status": "ok",
     "timestamp": 1587733490510,
     "user": {
      "displayName": "Артём Чумаченко",
      "photoUrl": "https://lh3.googleusercontent.com/a-/AOh14GgR2sxoXN9SKFaMK_eYAT7p7tjaPjW6aTcO35uD=s64",
      "userId": "16586051220000351113"
     },
     "user_tz": -180
    },
    "id": "fCgDT14MYJ-o",
    "outputId": "c14cea93-7098-4b48-83c9-3b79a43ddb16"
   },
   "outputs": [
    {
     "data": {
      "text/plain": [
       "tensor([ 1.5000,  3.2000, -7.0000])"
      ]
     },
     "execution_count": 26,
     "metadata": {},
     "output_type": "execute_result"
    }
   ],
   "source": [
    "a"
   ]
  },
  {
   "cell_type": "markdown",
   "metadata": {
    "colab_type": "text",
    "id": "hG1OwtFBYJ-r"
   },
   "source": [
    "* Indexing is just like in `NumPy`:"
   ]
  },
  {
   "cell_type": "code",
   "execution_count": 26,
   "metadata": {
    "colab": {
     "base_uri": "https://localhost:8080/",
     "height": 71
    },
    "colab_type": "code",
    "executionInfo": {
     "elapsed": 1173,
     "status": "ok",
     "timestamp": 1587733495312,
     "user": {
      "displayName": "Артём Чумаченко",
      "photoUrl": "https://lh3.googleusercontent.com/a-/AOh14GgR2sxoXN9SKFaMK_eYAT7p7tjaPjW6aTcO35uD=s64",
      "userId": "16586051220000351113"
     },
     "user_tz": -180
    },
    "id": "prr0EGIYYJ-r",
    "outputId": "839e79ea-65ea-4a92-da4c-6b461e70c52e"
   },
   "outputs": [
    {
     "data": {
      "text/plain": [
       "tensor([[100.,  20.,  35.],\n",
       "        [ 15., 163., 534.],\n",
       "        [ 52.,  90.,  66.]])"
      ]
     },
     "execution_count": 26,
     "metadata": {},
     "output_type": "execute_result"
    }
   ],
   "source": [
    "a = torch.FloatTensor([[100, 20, 35], [15, 163, 534], [52, 90, 66]])\n",
    "a"
   ]
  },
  {
   "cell_type": "code",
   "execution_count": 25,
   "metadata": {
    "colab": {
     "base_uri": "https://localhost:8080/",
     "height": 35
    },
    "colab_type": "code",
    "executionInfo": {
     "elapsed": 968,
     "status": "ok",
     "timestamp": 1587733496887,
     "user": {
      "displayName": "Артём Чумаченко",
      "photoUrl": "https://lh3.googleusercontent.com/a-/AOh14GgR2sxoXN9SKFaMK_eYAT7p7tjaPjW6aTcO35uD=s64",
      "userId": "16586051220000351113"
     },
     "user_tz": -180
    },
    "id": "IBq7JiccYJ-w",
    "outputId": "773f7aab-1335-4208-c647-9dac3c9837ac"
   },
   "outputs": [
    {
     "data": {
      "text/plain": [
       "tensor(100.)"
      ]
     },
     "execution_count": 25,
     "metadata": {},
     "output_type": "execute_result"
    }
   ],
   "source": [
    "a[0, 0]"
   ]
  },
  {
   "cell_type": "code",
   "execution_count": 29,
   "metadata": {
    "colab": {
     "base_uri": "https://localhost:8080/",
     "height": 53
    },
    "colab_type": "code",
    "executionInfo": {
     "elapsed": 1041,
     "status": "ok",
     "timestamp": 1587733507128,
     "user": {
      "displayName": "Артём Чумаченко",
      "photoUrl": "https://lh3.googleusercontent.com/a-/AOh14GgR2sxoXN9SKFaMK_eYAT7p7tjaPjW6aTcO35uD=s64",
      "userId": "16586051220000351113"
     },
     "user_tz": -180
    },
    "id": "UUZzx2F_YJ-2",
    "outputId": "dc3bcbd2-770c-46c5-ed61-4da3a0b39113"
   },
   "outputs": [
    {
     "data": {
      "text/plain": [
       "tensor([[100.,  20.],\n",
       "        [ 15., 163.]])"
      ]
     },
     "execution_count": 29,
     "metadata": {},
     "output_type": "execute_result"
    }
   ],
   "source": [
    "a[0:2, 0:2]"
   ]
  },
  {
   "cell_type": "markdown",
   "metadata": {
    "colab_type": "text",
    "id": "KffQsYwWYJ_D"
   },
   "source": [
    "**Ariphmetics and boolean operations** and their analogues:  \n",
    "\n",
    "| Operator | Analogue |\n",
    "|:-:|:-:|\n",
    "|`+`| `torch.add()` |\n",
    "|`-`| `torch.sub()` |\n",
    "|`*`| `torch.mul()` |\n",
    "|`/`| `torch.div()` |"
   ]
  },
  {
   "cell_type": "markdown",
   "metadata": {
    "colab_type": "text",
    "id": "UMpR8T11YJ_D"
   },
   "source": [
    "* Addition:"
   ]
  },
  {
   "cell_type": "code",
   "execution_count": 27,
   "metadata": {},
   "outputs": [
    {
     "data": {
      "text/plain": [
       "tensor([ 0.,  1.,  2.,  3.,  4.,  5.,  6.,  7.,  8.,  9., 10., 11.])"
      ]
     },
     "execution_count": 27,
     "metadata": {},
     "output_type": "execute_result"
    }
   ],
   "source": [
    "a = torch.FloatTensor(range(12))\n",
    "a"
   ]
  },
  {
   "cell_type": "code",
   "execution_count": 28,
   "metadata": {},
   "outputs": [
    {
     "data": {
      "text/plain": [
       "tensor([[[ 0.,  1.,  2.],\n",
       "         [ 3.,  4.,  5.]],\n",
       "\n",
       "        [[ 6.,  7.,  8.],\n",
       "         [ 9., 10., 11.]]])"
      ]
     },
     "execution_count": 28,
     "metadata": {},
     "output_type": "execute_result"
    }
   ],
   "source": [
    "a.view(2,2,3)"
   ]
  },
  {
   "cell_type": "code",
   "execution_count": 29,
   "metadata": {},
   "outputs": [
    {
     "data": {
      "text/plain": [
       "tensor([[[ 0.,  1.,  2.],\n",
       "         [ 3.,  4.,  5.]],\n",
       "\n",
       "        [[ 6.,  7.,  8.],\n",
       "         [ 9., 10., 11.]]])"
      ]
     },
     "execution_count": 29,
     "metadata": {},
     "output_type": "execute_result"
    }
   ],
   "source": [
    "b = a.view(2,2,3)\n",
    "b"
   ]
  },
  {
   "cell_type": "code",
   "execution_count": 30,
   "metadata": {},
   "outputs": [
    {
     "data": {
      "text/plain": [
       "tensor([[ 0.,  1.,  2.,  3.],\n",
       "        [ 4.,  5.,  6.,  7.],\n",
       "        [ 8.,  9., 10., 11.]])"
      ]
     },
     "execution_count": 30,
     "metadata": {},
     "output_type": "execute_result"
    }
   ],
   "source": [
    "a = torch.FloatTensor(range(12)).view(3,4)\n",
    "a"
   ]
  },
  {
   "cell_type": "code",
   "execution_count": 34,
   "metadata": {},
   "outputs": [
    {
     "data": {
      "text/plain": [
       "tensor([0., 4., 8.])"
      ]
     },
     "execution_count": 34,
     "metadata": {},
     "output_type": "execute_result"
    }
   ],
   "source": [
    "a[:3,0]"
   ]
  },
  {
   "cell_type": "markdown",
   "metadata": {},
   "source": [
    "**Ariphmetics and boolean operations** and their analogues:  \n",
    "\n",
    "| Operator | Analogue |\n",
    "|:-:|:-:|\n",
    "|`+`| `torch.add()` |\n",
    "|`-`| `torch.sub()` |\n",
    "|`*`| `torch.mul()` |\n",
    "|`/`| `torch.div()` |"
   ]
  },
  {
   "cell_type": "code",
   "execution_count": 35,
   "metadata": {
    "colab": {},
    "colab_type": "code",
    "id": "1XHkSjEUYJ_D"
   },
   "outputs": [],
   "source": [
    "a = torch.FloatTensor([[1, 2, 3], [10, 20, 30], [100, 200, 300]])\n",
    "b = torch.FloatTensor([[-1, -2, -3], [-10, -20, -30], [100, 200, 300]])"
   ]
  },
  {
   "cell_type": "code",
   "execution_count": 36,
   "metadata": {
    "colab": {
     "base_uri": "https://localhost:8080/",
     "height": 71
    },
    "colab_type": "code",
    "executionInfo": {
     "elapsed": 1296,
     "status": "ok",
     "timestamp": 1587733517707,
     "user": {
      "displayName": "Артём Чумаченко",
      "photoUrl": "https://lh3.googleusercontent.com/a-/AOh14GgR2sxoXN9SKFaMK_eYAT7p7tjaPjW6aTcO35uD=s64",
      "userId": "16586051220000351113"
     },
     "user_tz": -180
    },
    "id": "td25tuFKYJ_H",
    "outputId": "63a6ee30-4431-4821-efe6-12b10e882a0c"
   },
   "outputs": [
    {
     "data": {
      "text/plain": [
       "tensor([[  0.,   0.,   0.],\n",
       "        [  0.,   0.,   0.],\n",
       "        [200., 400., 600.]])"
      ]
     },
     "execution_count": 36,
     "metadata": {},
     "output_type": "execute_result"
    }
   ],
   "source": [
    "a + b"
   ]
  },
  {
   "cell_type": "code",
   "execution_count": 37,
   "metadata": {
    "colab": {
     "base_uri": "https://localhost:8080/",
     "height": 71
    },
    "colab_type": "code",
    "executionInfo": {
     "elapsed": 3112,
     "status": "ok",
     "timestamp": 1587733522671,
     "user": {
      "displayName": "Артём Чумаченко",
      "photoUrl": "https://lh3.googleusercontent.com/a-/AOh14GgR2sxoXN9SKFaMK_eYAT7p7tjaPjW6aTcO35uD=s64",
      "userId": "16586051220000351113"
     },
     "user_tz": -180
    },
    "id": "wHka8PxFYJ_N",
    "outputId": "461f0715-53d6-4d82-dab5-49f101fda744"
   },
   "outputs": [
    {
     "data": {
      "text/plain": [
       "tensor([[  0.,   0.,   0.],\n",
       "        [  0.,   0.,   0.],\n",
       "        [200., 400., 600.]])"
      ]
     },
     "execution_count": 37,
     "metadata": {},
     "output_type": "execute_result"
    }
   ],
   "source": [
    "a.add(b)"
   ]
  },
  {
   "cell_type": "code",
   "execution_count": 38,
   "metadata": {
    "colab": {
     "base_uri": "https://localhost:8080/",
     "height": 71
    },
    "colab_type": "code",
    "executionInfo": {
     "elapsed": 1380,
     "status": "ok",
     "timestamp": 1587733524905,
     "user": {
      "displayName": "Артём Чумаченко",
      "photoUrl": "https://lh3.googleusercontent.com/a-/AOh14GgR2sxoXN9SKFaMK_eYAT7p7tjaPjW6aTcO35uD=s64",
      "userId": "16586051220000351113"
     },
     "user_tz": -180
    },
    "id": "FHQj4DbBYJ_Q",
    "outputId": "a30e8b23-a054-4d65-a974-1ba940d27885"
   },
   "outputs": [
    {
     "data": {
      "text/plain": [
       "tensor([[  -1.,   -2.,   -3.],\n",
       "        [ -10.,  -20.,  -30.],\n",
       "        [-100., -200., -300.]])"
      ]
     },
     "execution_count": 38,
     "metadata": {},
     "output_type": "execute_result"
    }
   ],
   "source": [
    "b = -a\n",
    "b"
   ]
  },
  {
   "cell_type": "code",
   "execution_count": 39,
   "metadata": {
    "colab": {
     "base_uri": "https://localhost:8080/",
     "height": 71
    },
    "colab_type": "code",
    "executionInfo": {
     "elapsed": 1209,
     "status": "ok",
     "timestamp": 1587733525633,
     "user": {
      "displayName": "Артём Чумаченко",
      "photoUrl": "https://lh3.googleusercontent.com/a-/AOh14GgR2sxoXN9SKFaMK_eYAT7p7tjaPjW6aTcO35uD=s64",
      "userId": "16586051220000351113"
     },
     "user_tz": -180
    },
    "id": "xLCDzO7iYJ_V",
    "outputId": "c0cbc51c-90d1-4c41-8d4f-bf2968c26cc7"
   },
   "outputs": [
    {
     "data": {
      "text/plain": [
       "tensor([[0., 0., 0.],\n",
       "        [0., 0., 0.],\n",
       "        [0., 0., 0.]])"
      ]
     },
     "execution_count": 39,
     "metadata": {},
     "output_type": "execute_result"
    }
   ],
   "source": [
    "a + b"
   ]
  },
  {
   "cell_type": "markdown",
   "metadata": {
    "colab_type": "text",
    "id": "z_3gVLY3YJ_Z"
   },
   "source": [
    "* Subtraction:"
   ]
  },
  {
   "cell_type": "code",
   "execution_count": 40,
   "metadata": {
    "colab": {
     "base_uri": "https://localhost:8080/",
     "height": 71
    },
    "colab_type": "code",
    "executionInfo": {
     "elapsed": 1116,
     "status": "ok",
     "timestamp": 1587733528528,
     "user": {
      "displayName": "Артём Чумаченко",
      "photoUrl": "https://lh3.googleusercontent.com/a-/AOh14GgR2sxoXN9SKFaMK_eYAT7p7tjaPjW6aTcO35uD=s64",
      "userId": "16586051220000351113"
     },
     "user_tz": -180
    },
    "id": "PANHq3eFYJ_a",
    "outputId": "dcc8a625-516b-4a80-bc05-83c26c2c2c22"
   },
   "outputs": [
    {
     "data": {
      "text/plain": [
       "tensor([[  2.,   4.,   6.],\n",
       "        [ 20.,  40.,  60.],\n",
       "        [200., 400., 600.]])"
      ]
     },
     "execution_count": 40,
     "metadata": {},
     "output_type": "execute_result"
    }
   ],
   "source": [
    "a - b"
   ]
  },
  {
   "cell_type": "code",
   "execution_count": 41,
   "metadata": {
    "colab": {
     "base_uri": "https://localhost:8080/",
     "height": 71
    },
    "colab_type": "code",
    "executionInfo": {
     "elapsed": 2438,
     "status": "ok",
     "timestamp": 1587733530665,
     "user": {
      "displayName": "Артём Чумаченко",
      "photoUrl": "https://lh3.googleusercontent.com/a-/AOh14GgR2sxoXN9SKFaMK_eYAT7p7tjaPjW6aTcO35uD=s64",
      "userId": "16586051220000351113"
     },
     "user_tz": -180
    },
    "id": "AH7xhdkRYJ_i",
    "outputId": "ab4b5c92-d6dd-427f-d9ea-7dd59d53ee70"
   },
   "outputs": [
    {
     "data": {
      "text/plain": [
       "tensor([[  2.,   4.,   6.],\n",
       "        [ 20.,  40.,  60.],\n",
       "        [200., 400., 600.]])"
      ]
     },
     "execution_count": 41,
     "metadata": {},
     "output_type": "execute_result"
    }
   ],
   "source": [
    "a.sub(b)"
   ]
  },
  {
   "cell_type": "markdown",
   "metadata": {
    "colab_type": "text",
    "id": "KOX3dTuZYJ_l"
   },
   "source": [
    "* Multiplication (elementwise):"
   ]
  },
  {
   "cell_type": "code",
   "execution_count": 42,
   "metadata": {
    "colab": {
     "base_uri": "https://localhost:8080/",
     "height": 71
    },
    "colab_type": "code",
    "executionInfo": {
     "elapsed": 2813,
     "status": "ok",
     "timestamp": 1587733534889,
     "user": {
      "displayName": "Артём Чумаченко",
      "photoUrl": "https://lh3.googleusercontent.com/a-/AOh14GgR2sxoXN9SKFaMK_eYAT7p7tjaPjW6aTcO35uD=s64",
      "userId": "16586051220000351113"
     },
     "user_tz": -180
    },
    "id": "J380CvNGYJ_m",
    "outputId": "450184ea-67b9-40e1-c044-82d5cf7cfae1"
   },
   "outputs": [
    {
     "data": {
      "text/plain": [
       "tensor([[-1.0000e+00, -4.0000e+00, -9.0000e+00],\n",
       "        [-1.0000e+02, -4.0000e+02, -9.0000e+02],\n",
       "        [-1.0000e+04, -4.0000e+04, -9.0000e+04]])"
      ]
     },
     "execution_count": 42,
     "metadata": {},
     "output_type": "execute_result"
    }
   ],
   "source": [
    "a * b"
   ]
  },
  {
   "cell_type": "code",
   "execution_count": 43,
   "metadata": {
    "colab": {
     "base_uri": "https://localhost:8080/",
     "height": 71
    },
    "colab_type": "code",
    "executionInfo": {
     "elapsed": 3404,
     "status": "ok",
     "timestamp": 1587733536210,
     "user": {
      "displayName": "Артём Чумаченко",
      "photoUrl": "https://lh3.googleusercontent.com/a-/AOh14GgR2sxoXN9SKFaMK_eYAT7p7tjaPjW6aTcO35uD=s64",
      "userId": "16586051220000351113"
     },
     "user_tz": -180
    },
    "id": "cixW0jgdYJ_o",
    "outputId": "04bd681b-194e-4dab-b744-d1292e05d8bb"
   },
   "outputs": [
    {
     "data": {
      "text/plain": [
       "tensor([[-1.0000e+00, -4.0000e+00, -9.0000e+00],\n",
       "        [-1.0000e+02, -4.0000e+02, -9.0000e+02],\n",
       "        [-1.0000e+04, -4.0000e+04, -9.0000e+04]])"
      ]
     },
     "execution_count": 43,
     "metadata": {},
     "output_type": "execute_result"
    }
   ],
   "source": [
    "a.mul(b)"
   ]
  },
  {
   "cell_type": "code",
   "execution_count": 44,
   "metadata": {},
   "outputs": [
    {
     "data": {
      "text/plain": [
       "tensor([[  -321.,   -642.,   -963.],\n",
       "        [ -3210.,  -6420.,  -9630.],\n",
       "        [-32100., -64200., -96300.]])"
      ]
     },
     "execution_count": 44,
     "metadata": {},
     "output_type": "execute_result"
    }
   ],
   "source": [
    "torch.matmul(a,b)"
   ]
  },
  {
   "cell_type": "markdown",
   "metadata": {
    "colab_type": "text",
    "id": "V-GYTERKYJ_q"
   },
   "source": [
    "* Division (elementwise):"
   ]
  },
  {
   "cell_type": "code",
   "execution_count": 45,
   "metadata": {
    "colab": {},
    "colab_type": "code",
    "id": "fUBQns2SYJ_r"
   },
   "outputs": [],
   "source": [
    "a = torch.FloatTensor([[1, 2, 3], [10, 20, 30], [100, 200, 300]])\n",
    "b = torch.FloatTensor([[-1, -2, -3], [-10, -20, -30], [100, 200, 300]])"
   ]
  },
  {
   "cell_type": "code",
   "execution_count": 46,
   "metadata": {
    "colab": {
     "base_uri": "https://localhost:8080/",
     "height": 71
    },
    "colab_type": "code",
    "executionInfo": {
     "elapsed": 1766,
     "status": "ok",
     "timestamp": 1587733537161,
     "user": {
      "displayName": "Артём Чумаченко",
      "photoUrl": "https://lh3.googleusercontent.com/a-/AOh14GgR2sxoXN9SKFaMK_eYAT7p7tjaPjW6aTcO35uD=s64",
      "userId": "16586051220000351113"
     },
     "user_tz": -180
    },
    "id": "2hrKeMjAYJ_v",
    "outputId": "9a43eb94-820c-4d8c-eed9-1d06850656d2"
   },
   "outputs": [
    {
     "data": {
      "text/plain": [
       "tensor([[-1., -1., -1.],\n",
       "        [-1., -1., -1.],\n",
       "        [ 1.,  1.,  1.]])"
      ]
     },
     "execution_count": 46,
     "metadata": {},
     "output_type": "execute_result"
    }
   ],
   "source": [
    "a / b"
   ]
  },
  {
   "cell_type": "code",
   "execution_count": 47,
   "metadata": {
    "colab": {
     "base_uri": "https://localhost:8080/",
     "height": 71
    },
    "colab_type": "code",
    "executionInfo": {
     "elapsed": 1376,
     "status": "ok",
     "timestamp": 1587733541294,
     "user": {
      "displayName": "Артём Чумаченко",
      "photoUrl": "https://lh3.googleusercontent.com/a-/AOh14GgR2sxoXN9SKFaMK_eYAT7p7tjaPjW6aTcO35uD=s64",
      "userId": "16586051220000351113"
     },
     "user_tz": -180
    },
    "id": "cpg3YFVPYJ_2",
    "outputId": "009c4006-cbca-4699-ed67-faed7b62a4a8"
   },
   "outputs": [
    {
     "data": {
      "text/plain": [
       "tensor([[-1., -1., -1.],\n",
       "        [-1., -1., -1.],\n",
       "        [ 1.,  1.,  1.]])"
      ]
     },
     "execution_count": 47,
     "metadata": {},
     "output_type": "execute_result"
    }
   ],
   "source": [
    "a.div(b)"
   ]
  },
  {
   "cell_type": "markdown",
   "metadata": {
    "colab_type": "text",
    "id": "VeLAbx1tYJ_7"
   },
   "source": [
    "**Note:** all this operations create new tensors, the old tensors remain unchanged"
   ]
  },
  {
   "cell_type": "code",
   "execution_count": 48,
   "metadata": {
    "colab": {
     "base_uri": "https://localhost:8080/",
     "height": 71
    },
    "colab_type": "code",
    "executionInfo": {
     "elapsed": 2427,
     "status": "ok",
     "timestamp": 1587733549856,
     "user": {
      "displayName": "Артём Чумаченко",
      "photoUrl": "https://lh3.googleusercontent.com/a-/AOh14GgR2sxoXN9SKFaMK_eYAT7p7tjaPjW6aTcO35uD=s64",
      "userId": "16586051220000351113"
     },
     "user_tz": -180
    },
    "id": "57BFtnlgYJ_8",
    "outputId": "9a003000-2380-4ee1-f7a7-46532275a209"
   },
   "outputs": [
    {
     "data": {
      "text/plain": [
       "tensor([[  1.,   2.,   3.],\n",
       "        [ 10.,  20.,  30.],\n",
       "        [100., 200., 300.]])"
      ]
     },
     "execution_count": 48,
     "metadata": {},
     "output_type": "execute_result"
    }
   ],
   "source": [
    "a"
   ]
  },
  {
   "cell_type": "code",
   "execution_count": 49,
   "metadata": {
    "colab": {
     "base_uri": "https://localhost:8080/",
     "height": 71
    },
    "colab_type": "code",
    "executionInfo": {
     "elapsed": 1878,
     "status": "ok",
     "timestamp": 1587733549859,
     "user": {
      "displayName": "Артём Чумаченко",
      "photoUrl": "https://lh3.googleusercontent.com/a-/AOh14GgR2sxoXN9SKFaMK_eYAT7p7tjaPjW6aTcO35uD=s64",
      "userId": "16586051220000351113"
     },
     "user_tz": -180
    },
    "id": "UziXyvtDYJ_-",
    "outputId": "23215570-53a1-44c3-bd61-b0dd849b837f"
   },
   "outputs": [
    {
     "data": {
      "text/plain": [
       "tensor([[ -1.,  -2.,  -3.],\n",
       "        [-10., -20., -30.],\n",
       "        [100., 200., 300.]])"
      ]
     },
     "execution_count": 49,
     "metadata": {},
     "output_type": "execute_result"
    }
   ],
   "source": [
    "b"
   ]
  },
  {
   "cell_type": "markdown",
   "metadata": {
    "colab_type": "text",
    "id": "vLpwZPc3YKAC"
   },
   "source": [
    "* Comparison operators:"
   ]
  },
  {
   "cell_type": "code",
   "execution_count": 50,
   "metadata": {
    "colab": {},
    "colab_type": "code",
    "id": "FfRzvw_UYKAC"
   },
   "outputs": [],
   "source": [
    "a = torch.FloatTensor([[1, 2, 3], [10, 20, 30], [100, 200, 300]])\n",
    "b = torch.FloatTensor([[-1, -2, -3], [-10, -20, -30], [100, 200, 300]])"
   ]
  },
  {
   "cell_type": "code",
   "execution_count": 51,
   "metadata": {
    "colab": {
     "base_uri": "https://localhost:8080/",
     "height": 71
    },
    "colab_type": "code",
    "executionInfo": {
     "elapsed": 1494,
     "status": "ok",
     "timestamp": 1587733555957,
     "user": {
      "displayName": "Артём Чумаченко",
      "photoUrl": "https://lh3.googleusercontent.com/a-/AOh14GgR2sxoXN9SKFaMK_eYAT7p7tjaPjW6aTcO35uD=s64",
      "userId": "16586051220000351113"
     },
     "user_tz": -180
    },
    "id": "o1RUTP2BYKAD",
    "outputId": "831d66c5-28c9-4a65-9e63-735f79330219"
   },
   "outputs": [
    {
     "data": {
      "text/plain": [
       "tensor([[False, False, False],\n",
       "        [False, False, False],\n",
       "        [ True,  True,  True]])"
      ]
     },
     "execution_count": 51,
     "metadata": {},
     "output_type": "execute_result"
    }
   ],
   "source": [
    "a == b"
   ]
  },
  {
   "cell_type": "code",
   "execution_count": 52,
   "metadata": {
    "colab": {
     "base_uri": "https://localhost:8080/",
     "height": 71
    },
    "colab_type": "code",
    "executionInfo": {
     "elapsed": 1685,
     "status": "ok",
     "timestamp": 1587733557065,
     "user": {
      "displayName": "Артём Чумаченко",
      "photoUrl": "https://lh3.googleusercontent.com/a-/AOh14GgR2sxoXN9SKFaMK_eYAT7p7tjaPjW6aTcO35uD=s64",
      "userId": "16586051220000351113"
     },
     "user_tz": -180
    },
    "id": "JO3HaVIAYKAF",
    "outputId": "a3a830b2-44ae-4235-c649-c3d71794bacd"
   },
   "outputs": [
    {
     "data": {
      "text/plain": [
       "tensor([[ True,  True,  True],\n",
       "        [ True,  True,  True],\n",
       "        [False, False, False]])"
      ]
     },
     "execution_count": 52,
     "metadata": {},
     "output_type": "execute_result"
    }
   ],
   "source": [
    "a != b"
   ]
  },
  {
   "cell_type": "code",
   "execution_count": 53,
   "metadata": {
    "colab": {
     "base_uri": "https://localhost:8080/",
     "height": 71
    },
    "colab_type": "code",
    "executionInfo": {
     "elapsed": 870,
     "status": "ok",
     "timestamp": 1587733557690,
     "user": {
      "displayName": "Артём Чумаченко",
      "photoUrl": "https://lh3.googleusercontent.com/a-/AOh14GgR2sxoXN9SKFaMK_eYAT7p7tjaPjW6aTcO35uD=s64",
      "userId": "16586051220000351113"
     },
     "user_tz": -180
    },
    "id": "DExLBj4VYKAH",
    "outputId": "1fb6f73c-8d0f-42ed-e132-29da49e6a520"
   },
   "outputs": [
    {
     "data": {
      "text/plain": [
       "tensor([[False, False, False],\n",
       "        [False, False, False],\n",
       "        [False, False, False]])"
      ]
     },
     "execution_count": 53,
     "metadata": {},
     "output_type": "execute_result"
    }
   ],
   "source": [
    "a < b"
   ]
  },
  {
   "cell_type": "code",
   "execution_count": 54,
   "metadata": {
    "colab": {
     "base_uri": "https://localhost:8080/",
     "height": 71
    },
    "colab_type": "code",
    "executionInfo": {
     "elapsed": 1384,
     "status": "ok",
     "timestamp": 1587733559566,
     "user": {
      "displayName": "Артём Чумаченко",
      "photoUrl": "https://lh3.googleusercontent.com/a-/AOh14GgR2sxoXN9SKFaMK_eYAT7p7tjaPjW6aTcO35uD=s64",
      "userId": "16586051220000351113"
     },
     "user_tz": -180
    },
    "id": "0_IH_FUNYKAJ",
    "outputId": "4d281e28-bec2-40ab-9053-10e1f617f5b1"
   },
   "outputs": [
    {
     "data": {
      "text/plain": [
       "tensor([[ True,  True,  True],\n",
       "        [ True,  True,  True],\n",
       "        [False, False, False]])"
      ]
     },
     "execution_count": 54,
     "metadata": {},
     "output_type": "execute_result"
    }
   ],
   "source": [
    "a > b"
   ]
  },
  {
   "cell_type": "markdown",
   "metadata": {
    "colab_type": "text",
    "id": "24nzBJR8YKAM"
   },
   "source": [
    "* Using boolean mask indexing:"
   ]
  },
  {
   "cell_type": "code",
   "execution_count": 55,
   "metadata": {
    "colab": {
     "base_uri": "https://localhost:8080/",
     "height": 35
    },
    "colab_type": "code",
    "executionInfo": {
     "elapsed": 1296,
     "status": "ok",
     "timestamp": 1587733564932,
     "user": {
      "displayName": "Артём Чумаченко",
      "photoUrl": "https://lh3.googleusercontent.com/a-/AOh14GgR2sxoXN9SKFaMK_eYAT7p7tjaPjW6aTcO35uD=s64",
      "userId": "16586051220000351113"
     },
     "user_tz": -180
    },
    "id": "C-xVDslwYKAN",
    "outputId": "ff60dd23-446a-406f-f63b-7879e743e400"
   },
   "outputs": [
    {
     "data": {
      "text/plain": [
       "tensor([ 1.,  2.,  3., 10., 20., 30.])"
      ]
     },
     "execution_count": 55,
     "metadata": {},
     "output_type": "execute_result"
    }
   ],
   "source": [
    "a[a > b]"
   ]
  },
  {
   "cell_type": "code",
   "execution_count": 56,
   "metadata": {
    "colab": {
     "base_uri": "https://localhost:8080/",
     "height": 35
    },
    "colab_type": "code",
    "executionInfo": {
     "elapsed": 1063,
     "status": "ok",
     "timestamp": 1587733571502,
     "user": {
      "displayName": "Артём Чумаченко",
      "photoUrl": "https://lh3.googleusercontent.com/a-/AOh14GgR2sxoXN9SKFaMK_eYAT7p7tjaPjW6aTcO35uD=s64",
      "userId": "16586051220000351113"
     },
     "user_tz": -180
    },
    "id": "XatDJF5YYKAQ",
    "outputId": "3c81521c-97a0-47b6-82da-14a53056dc0e"
   },
   "outputs": [
    {
     "data": {
      "text/plain": [
       "tensor([100., 200., 300.])"
      ]
     },
     "execution_count": 56,
     "metadata": {},
     "output_type": "execute_result"
    }
   ],
   "source": [
    "b[a == b]"
   ]
  },
  {
   "cell_type": "markdown",
   "metadata": {
    "colab_type": "text",
    "id": "54bQky1bYKAf"
   },
   "source": [
    "Elementwise application of the **universal functions**:"
   ]
  },
  {
   "cell_type": "code",
   "execution_count": 57,
   "metadata": {
    "colab": {},
    "colab_type": "code",
    "id": "lWnGSuUhYKAf"
   },
   "outputs": [
    {
     "data": {
      "text/plain": [
       "tensor([[  1.,   2.,   3.],\n",
       "        [ 10.,  20.,  30.],\n",
       "        [100., 200., 300.]])"
      ]
     },
     "execution_count": 57,
     "metadata": {},
     "output_type": "execute_result"
    }
   ],
   "source": [
    "a = torch.FloatTensor([[1, 2, 3], [10, 20, 30], [100, 200, 300]])\n",
    "a"
   ]
  },
  {
   "cell_type": "code",
   "execution_count": 58,
   "metadata": {
    "colab": {
     "base_uri": "https://localhost:8080/",
     "height": 71
    },
    "colab_type": "code",
    "executionInfo": {
     "elapsed": 2305,
     "status": "ok",
     "timestamp": 1587733583670,
     "user": {
      "displayName": "Артём Чумаченко",
      "photoUrl": "https://lh3.googleusercontent.com/a-/AOh14GgR2sxoXN9SKFaMK_eYAT7p7tjaPjW6aTcO35uD=s64",
      "userId": "16586051220000351113"
     },
     "user_tz": -180
    },
    "id": "J6ZyxZBNYKAl",
    "outputId": "43ed0728-a6df-4327-8187-7c61f61d1d99"
   },
   "outputs": [
    {
     "data": {
      "text/plain": [
       "tensor([[ 0.8415,  0.9093,  0.1411],\n",
       "        [-0.5440,  0.9129, -0.9880],\n",
       "        [-0.5064, -0.8733, -0.9998]])"
      ]
     },
     "execution_count": 58,
     "metadata": {},
     "output_type": "execute_result"
    }
   ],
   "source": [
    "a.sin()"
   ]
  },
  {
   "cell_type": "code",
   "execution_count": 59,
   "metadata": {
    "colab": {
     "base_uri": "https://localhost:8080/",
     "height": 71
    },
    "colab_type": "code",
    "executionInfo": {
     "elapsed": 1595,
     "status": "ok",
     "timestamp": 1587733583673,
     "user": {
      "displayName": "Артём Чумаченко",
      "photoUrl": "https://lh3.googleusercontent.com/a-/AOh14GgR2sxoXN9SKFaMK_eYAT7p7tjaPjW6aTcO35uD=s64",
      "userId": "16586051220000351113"
     },
     "user_tz": -180
    },
    "id": "SScTSkJMYKAo",
    "outputId": "dcfbc4cb-3d88-479e-8f1f-dcdb7bfee93b"
   },
   "outputs": [
    {
     "data": {
      "text/plain": [
       "tensor([[ 0.8415,  0.9093,  0.1411],\n",
       "        [-0.5440,  0.9129, -0.9880],\n",
       "        [-0.5064, -0.8733, -0.9998]])"
      ]
     },
     "execution_count": 59,
     "metadata": {},
     "output_type": "execute_result"
    }
   ],
   "source": [
    "torch.sin(a)"
   ]
  },
  {
   "cell_type": "code",
   "execution_count": 60,
   "metadata": {
    "colab": {
     "base_uri": "https://localhost:8080/",
     "height": 71
    },
    "colab_type": "code",
    "executionInfo": {
     "elapsed": 2160,
     "status": "ok",
     "timestamp": 1587733585708,
     "user": {
      "displayName": "Артём Чумаченко",
      "photoUrl": "https://lh3.googleusercontent.com/a-/AOh14GgR2sxoXN9SKFaMK_eYAT7p7tjaPjW6aTcO35uD=s64",
      "userId": "16586051220000351113"
     },
     "user_tz": -180
    },
    "id": "0bYVYVV7YKAr",
    "outputId": "e47aafd4-ea09-43d1-8008-a0abbb5f1702"
   },
   "outputs": [
    {
     "data": {
      "text/plain": [
       "tensor([[ 1.5574, -2.1850, -0.1425],\n",
       "        [ 0.6484,  2.2372, -6.4053],\n",
       "        [-0.5872, -1.7925, 45.2447]])"
      ]
     },
     "execution_count": 60,
     "metadata": {},
     "output_type": "execute_result"
    }
   ],
   "source": [
    "a.tan()"
   ]
  },
  {
   "cell_type": "code",
   "execution_count": 61,
   "metadata": {
    "colab": {
     "base_uri": "https://localhost:8080/",
     "height": 71
    },
    "colab_type": "code",
    "executionInfo": {
     "elapsed": 1246,
     "status": "ok",
     "timestamp": 1587733585728,
     "user": {
      "displayName": "Артём Чумаченко",
      "photoUrl": "https://lh3.googleusercontent.com/a-/AOh14GgR2sxoXN9SKFaMK_eYAT7p7tjaPjW6aTcO35uD=s64",
      "userId": "16586051220000351113"
     },
     "user_tz": -180
    },
    "id": "c-rYL8HQYKAt",
    "outputId": "a4cbac5d-3df9-4de9-e38c-1d02e6e1b4e9"
   },
   "outputs": [
    {
     "data": {
      "text/plain": [
       "tensor([[2.7183e+00, 7.3891e+00, 2.0086e+01],\n",
       "        [2.2026e+04, 4.8517e+08, 1.0686e+13],\n",
       "        [       inf,        inf,        inf]])"
      ]
     },
     "execution_count": 61,
     "metadata": {},
     "output_type": "execute_result"
    }
   ],
   "source": [
    "a.exp()"
   ]
  },
  {
   "cell_type": "code",
   "execution_count": 62,
   "metadata": {
    "colab": {
     "base_uri": "https://localhost:8080/",
     "height": 71
    },
    "colab_type": "code",
    "executionInfo": {
     "elapsed": 1018,
     "status": "ok",
     "timestamp": 1587733586527,
     "user": {
      "displayName": "Артём Чумаченко",
      "photoUrl": "https://lh3.googleusercontent.com/a-/AOh14GgR2sxoXN9SKFaMK_eYAT7p7tjaPjW6aTcO35uD=s64",
      "userId": "16586051220000351113"
     },
     "user_tz": -180
    },
    "id": "EbiCDYUzYKAw",
    "outputId": "48b230b2-11e9-40d1-f6f2-c1c990c1f18e"
   },
   "outputs": [
    {
     "data": {
      "text/plain": [
       "tensor([[0.0000, 0.6931, 1.0986],\n",
       "        [2.3026, 2.9957, 3.4012],\n",
       "        [4.6052, 5.2983, 5.7038]])"
      ]
     },
     "execution_count": 62,
     "metadata": {},
     "output_type": "execute_result"
    }
   ],
   "source": [
    "a.log()"
   ]
  },
  {
   "cell_type": "code",
   "execution_count": 63,
   "metadata": {
    "colab": {
     "base_uri": "https://localhost:8080/",
     "height": 71
    },
    "colab_type": "code",
    "executionInfo": {
     "elapsed": 1088,
     "status": "ok",
     "timestamp": 1587733589532,
     "user": {
      "displayName": "Артём Чумаченко",
      "photoUrl": "https://lh3.googleusercontent.com/a-/AOh14GgR2sxoXN9SKFaMK_eYAT7p7tjaPjW6aTcO35uD=s64",
      "userId": "16586051220000351113"
     },
     "user_tz": -180
    },
    "id": "yh1sySpiYKAy",
    "outputId": "5eae7f63-8353-417d-bbf9-0b5726fac1e0"
   },
   "outputs": [
    {
     "data": {
      "text/plain": [
       "tensor([[  -1.,   -2.,   -3.],\n",
       "        [ -10.,  -20.,  -30.],\n",
       "        [-100., -200., -300.]])"
      ]
     },
     "execution_count": 63,
     "metadata": {},
     "output_type": "execute_result"
    }
   ],
   "source": [
    "b = -a\n",
    "b"
   ]
  },
  {
   "cell_type": "code",
   "execution_count": 64,
   "metadata": {
    "colab": {
     "base_uri": "https://localhost:8080/",
     "height": 71
    },
    "colab_type": "code",
    "executionInfo": {
     "elapsed": 1261,
     "status": "ok",
     "timestamp": 1587733596593,
     "user": {
      "displayName": "Артём Чумаченко",
      "photoUrl": "https://lh3.googleusercontent.com/a-/AOh14GgR2sxoXN9SKFaMK_eYAT7p7tjaPjW6aTcO35uD=s64",
      "userId": "16586051220000351113"
     },
     "user_tz": -180
    },
    "id": "PNU0UxqIYKA2",
    "outputId": "d8d67418-cf9b-4491-a554-62c06248e15d"
   },
   "outputs": [
    {
     "data": {
      "text/plain": [
       "tensor([[  1.,   2.,   3.],\n",
       "        [ 10.,  20.,  30.],\n",
       "        [100., 200., 300.]])"
      ]
     },
     "execution_count": 64,
     "metadata": {},
     "output_type": "execute_result"
    }
   ],
   "source": [
    "b.abs()"
   ]
  },
  {
   "cell_type": "markdown",
   "metadata": {
    "colab_type": "text",
    "id": "eqERQjISYKA9"
   },
   "source": [
    "* The sum, mean, max, min:"
   ]
  },
  {
   "cell_type": "code",
   "execution_count": 65,
   "metadata": {
    "colab": {
     "base_uri": "https://localhost:8080/",
     "height": 35
    },
    "colab_type": "code",
    "executionInfo": {
     "elapsed": 1432,
     "status": "ok",
     "timestamp": 1587733605495,
     "user": {
      "displayName": "Артём Чумаченко",
      "photoUrl": "https://lh3.googleusercontent.com/a-/AOh14GgR2sxoXN9SKFaMK_eYAT7p7tjaPjW6aTcO35uD=s64",
      "userId": "16586051220000351113"
     },
     "user_tz": -180
    },
    "id": "HLmJGdl9YKA-",
    "outputId": "3d2a6479-9333-4d73-9396-028e649e63e0"
   },
   "outputs": [
    {
     "data": {
      "text/plain": [
       "tensor(666.)"
      ]
     },
     "execution_count": 65,
     "metadata": {},
     "output_type": "execute_result"
    }
   ],
   "source": [
    "a.sum()"
   ]
  },
  {
   "cell_type": "code",
   "execution_count": 66,
   "metadata": {
    "colab": {
     "base_uri": "https://localhost:8080/",
     "height": 35
    },
    "colab_type": "code",
    "executionInfo": {
     "elapsed": 1202,
     "status": "ok",
     "timestamp": 1587733608939,
     "user": {
      "displayName": "Артём Чумаченко",
      "photoUrl": "https://lh3.googleusercontent.com/a-/AOh14GgR2sxoXN9SKFaMK_eYAT7p7tjaPjW6aTcO35uD=s64",
      "userId": "16586051220000351113"
     },
     "user_tz": -180
    },
    "id": "ervIuNGnYKBD",
    "outputId": "c03d6334-fcb1-42d4-f53e-43334e8d21a2"
   },
   "outputs": [
    {
     "data": {
      "text/plain": [
       "tensor(74.)"
      ]
     },
     "execution_count": 66,
     "metadata": {},
     "output_type": "execute_result"
    }
   ],
   "source": [
    "a.mean()"
   ]
  },
  {
   "cell_type": "markdown",
   "metadata": {
    "colab_type": "text",
    "id": "1qxkdUQ2YKBF"
   },
   "source": [
    "Along axis:"
   ]
  },
  {
   "cell_type": "code",
   "execution_count": 67,
   "metadata": {
    "colab": {
     "base_uri": "https://localhost:8080/",
     "height": 71
    },
    "colab_type": "code",
    "executionInfo": {
     "elapsed": 2279,
     "status": "ok",
     "timestamp": 1587733613886,
     "user": {
      "displayName": "Артём Чумаченко",
      "photoUrl": "https://lh3.googleusercontent.com/a-/AOh14GgR2sxoXN9SKFaMK_eYAT7p7tjaPjW6aTcO35uD=s64",
      "userId": "16586051220000351113"
     },
     "user_tz": -180
    },
    "id": "OzU2H7jBbdS-",
    "outputId": "6bcda25e-67f3-4d3b-b7e9-6368bbe989fc"
   },
   "outputs": [
    {
     "data": {
      "text/plain": [
       "tensor([[  1.,   2.,   3.],\n",
       "        [ 10.,  20.,  30.],\n",
       "        [100., 200., 300.]])"
      ]
     },
     "execution_count": 67,
     "metadata": {},
     "output_type": "execute_result"
    }
   ],
   "source": [
    "a"
   ]
  },
  {
   "cell_type": "code",
   "execution_count": 68,
   "metadata": {
    "colab": {
     "base_uri": "https://localhost:8080/",
     "height": 35
    },
    "colab_type": "code",
    "executionInfo": {
     "elapsed": 1558,
     "status": "ok",
     "timestamp": 1587733622508,
     "user": {
      "displayName": "Артём Чумаченко",
      "photoUrl": "https://lh3.googleusercontent.com/a-/AOh14GgR2sxoXN9SKFaMK_eYAT7p7tjaPjW6aTcO35uD=s64",
      "userId": "16586051220000351113"
     },
     "user_tz": -180
    },
    "id": "cc6RjJYeYKBG",
    "outputId": "f0a249b6-884f-4b3c-c3b6-607561442426"
   },
   "outputs": [
    {
     "data": {
      "text/plain": [
       "tensor([111., 222., 333.])"
      ]
     },
     "execution_count": 68,
     "metadata": {},
     "output_type": "execute_result"
    }
   ],
   "source": [
    "a.sum(dim=0)"
   ]
  },
  {
   "cell_type": "code",
   "execution_count": 69,
   "metadata": {
    "colab": {
     "base_uri": "https://localhost:8080/",
     "height": 35
    },
    "colab_type": "code",
    "executionInfo": {
     "elapsed": 1308,
     "status": "ok",
     "timestamp": 1587733627644,
     "user": {
      "displayName": "Артём Чумаченко",
      "photoUrl": "https://lh3.googleusercontent.com/a-/AOh14GgR2sxoXN9SKFaMK_eYAT7p7tjaPjW6aTcO35uD=s64",
      "userId": "16586051220000351113"
     },
     "user_tz": -180
    },
    "id": "Dgi5BmhOYKBJ",
    "outputId": "8078c81c-ff2e-4bfe-ae49-ad37409bea46"
   },
   "outputs": [
    {
     "data": {
      "text/plain": [
       "tensor([  6.,  60., 600.])"
      ]
     },
     "execution_count": 69,
     "metadata": {},
     "output_type": "execute_result"
    }
   ],
   "source": [
    "a.sum(1)"
   ]
  },
  {
   "cell_type": "code",
   "execution_count": 70,
   "metadata": {
    "colab": {
     "base_uri": "https://localhost:8080/",
     "height": 35
    },
    "colab_type": "code",
    "executionInfo": {
     "elapsed": 1193,
     "status": "ok",
     "timestamp": 1587733631809,
     "user": {
      "displayName": "Артём Чумаченко",
      "photoUrl": "https://lh3.googleusercontent.com/a-/AOh14GgR2sxoXN9SKFaMK_eYAT7p7tjaPjW6aTcO35uD=s64",
      "userId": "16586051220000351113"
     },
     "user_tz": -180
    },
    "id": "-tIkcTENYKBK",
    "outputId": "36406526-ec23-4b6c-ff9f-df321587472e"
   },
   "outputs": [
    {
     "data": {
      "text/plain": [
       "tensor(300.)"
      ]
     },
     "execution_count": 70,
     "metadata": {},
     "output_type": "execute_result"
    }
   ],
   "source": [
    "a.max()"
   ]
  },
  {
   "cell_type": "code",
   "execution_count": 71,
   "metadata": {
    "colab": {
     "base_uri": "https://localhost:8080/",
     "height": 35
    },
    "colab_type": "code",
    "executionInfo": {
     "elapsed": 1709,
     "status": "ok",
     "timestamp": 1587733677959,
     "user": {
      "displayName": "Артём Чумаченко",
      "photoUrl": "https://lh3.googleusercontent.com/a-/AOh14GgR2sxoXN9SKFaMK_eYAT7p7tjaPjW6aTcO35uD=s64",
      "userId": "16586051220000351113"
     },
     "user_tz": -180
    },
    "id": "V4U_LyyPYKBL",
    "outputId": "31e2cd78-d21e-4e4c-b535-71828bf0908d"
   },
   "outputs": [
    {
     "data": {
      "text/plain": [
       "torch.return_types.max(\n",
       "values=tensor([100., 200., 300.]),\n",
       "indices=tensor([2, 2, 2]))"
      ]
     },
     "execution_count": 71,
     "metadata": {},
     "output_type": "execute_result"
    }
   ],
   "source": [
    "a.max(0)"
   ]
  },
  {
   "cell_type": "code",
   "execution_count": 72,
   "metadata": {
    "colab": {
     "base_uri": "https://localhost:8080/",
     "height": 35
    },
    "colab_type": "code",
    "executionInfo": {
     "elapsed": 1638,
     "status": "ok",
     "timestamp": 1587733649964,
     "user": {
      "displayName": "Артём Чумаченко",
      "photoUrl": "https://lh3.googleusercontent.com/a-/AOh14GgR2sxoXN9SKFaMK_eYAT7p7tjaPjW6aTcO35uD=s64",
      "userId": "16586051220000351113"
     },
     "user_tz": -180
    },
    "id": "TSqmVtWjYKBO",
    "outputId": "680ec998-77d3-41c9-c054-97c2149f16fa"
   },
   "outputs": [
    {
     "data": {
      "text/plain": [
       "tensor(1.)"
      ]
     },
     "execution_count": 72,
     "metadata": {},
     "output_type": "execute_result"
    }
   ],
   "source": [
    "a.min()"
   ]
  },
  {
   "cell_type": "code",
   "execution_count": 73,
   "metadata": {
    "colab": {
     "base_uri": "https://localhost:8080/",
     "height": 35
    },
    "colab_type": "code",
    "executionInfo": {
     "elapsed": 1121,
     "status": "ok",
     "timestamp": 1587733650660,
     "user": {
      "displayName": "Артём Чумаченко",
      "photoUrl": "https://lh3.googleusercontent.com/a-/AOh14GgR2sxoXN9SKFaMK_eYAT7p7tjaPjW6aTcO35uD=s64",
      "userId": "16586051220000351113"
     },
     "user_tz": -180
    },
    "id": "OeA2hlZ2YKBP",
    "outputId": "d0d3be91-43c4-49bf-c4f5-e8e72b83f76a"
   },
   "outputs": [
    {
     "data": {
      "text/plain": [
       "torch.return_types.min(\n",
       "values=tensor([1., 2., 3.]),\n",
       "indices=tensor([0, 0, 0]))"
      ]
     },
     "execution_count": 73,
     "metadata": {},
     "output_type": "execute_result"
    }
   ],
   "source": [
    "a.min(0)"
   ]
  },
  {
   "cell_type": "code",
   "execution_count": 74,
   "metadata": {},
   "outputs": [],
   "source": [
    "a = torch.FloatTensor(100,700,700,3) # сто картинок 700*700 разрешением и глубиной цвета 3"
   ]
  },
  {
   "cell_type": "code",
   "execution_count": 75,
   "metadata": {},
   "outputs": [
    {
     "data": {
      "text/plain": [
       "torch.Size([100, 700, 700])"
      ]
     },
     "execution_count": 75,
     "metadata": {},
     "output_type": "execute_result"
    }
   ],
   "source": [
    "a.mean(3).shape # убрали гдубину серый цвет?"
   ]
  },
  {
   "cell_type": "markdown",
   "metadata": {
    "colab_type": "text",
    "id": "Ys-9hnr4YKBS"
   },
   "source": [
    "**Note:** the second tensor returned by `.max()` and `.min()` contains the indices of max/min elements along this axis. E.g. in that case `a.min()` returned `(1, 2, 3)` which are the minimum elements along 0 axis (along columns) and their indices along 0 axis are `(0, 0, 0)`."
   ]
  },
  {
   "cell_type": "markdown",
   "metadata": {
    "colab_type": "text",
    "id": "kepFeTZ0YKBV"
   },
   "source": [
    "**Matrix operations**:"
   ]
  },
  {
   "cell_type": "markdown",
   "metadata": {
    "colab_type": "text",
    "id": "7RYm3mdrYKBX"
   },
   "source": [
    "* Transpose a tensor:"
   ]
  },
  {
   "cell_type": "code",
   "execution_count": 78,
   "metadata": {
    "colab": {
     "base_uri": "https://localhost:8080/",
     "height": 71
    },
    "colab_type": "code",
    "executionInfo": {
     "elapsed": 1515,
     "status": "ok",
     "timestamp": 1587733682116,
     "user": {
      "displayName": "Артём Чумаченко",
      "photoUrl": "https://lh3.googleusercontent.com/a-/AOh14GgR2sxoXN9SKFaMK_eYAT7p7tjaPjW6aTcO35uD=s64",
      "userId": "16586051220000351113"
     },
     "user_tz": -180
    },
    "id": "T8-1TSkeYKBY",
    "outputId": "14fd3161-9177-443e-969c-e2c75c0f6bf9"
   },
   "outputs": [
    {
     "data": {
      "text/plain": [
       "tensor([[  1.,   2.,   3.],\n",
       "        [ 10.,  20.,  30.],\n",
       "        [100., 200., 300.]])"
      ]
     },
     "execution_count": 78,
     "metadata": {},
     "output_type": "execute_result"
    }
   ],
   "source": [
    "a = torch.FloatTensor([[1, 2, 3], [10, 20, 30], [100, 200, 300]])\n",
    "a"
   ]
  },
  {
   "cell_type": "code",
   "execution_count": 79,
   "metadata": {
    "colab": {
     "base_uri": "https://localhost:8080/",
     "height": 71
    },
    "colab_type": "code",
    "executionInfo": {
     "elapsed": 772,
     "status": "ok",
     "timestamp": 1587733683595,
     "user": {
      "displayName": "Артём Чумаченко",
      "photoUrl": "https://lh3.googleusercontent.com/a-/AOh14GgR2sxoXN9SKFaMK_eYAT7p7tjaPjW6aTcO35uD=s64",
      "userId": "16586051220000351113"
     },
     "user_tz": -180
    },
    "id": "HSAZwai7YKBa",
    "outputId": "a71d3c74-53e1-4255-c905-4c860752d8de"
   },
   "outputs": [
    {
     "data": {
      "text/plain": [
       "tensor([[  1.,  10., 100.],\n",
       "        [  2.,  20., 200.],\n",
       "        [  3.,  30., 300.]])"
      ]
     },
     "execution_count": 79,
     "metadata": {},
     "output_type": "execute_result"
    }
   ],
   "source": [
    "a.t()"
   ]
  },
  {
   "cell_type": "markdown",
   "metadata": {
    "colab_type": "text",
    "id": "QqsPkleRYKBd"
   },
   "source": [
    "It is not not the inplace operation too:"
   ]
  },
  {
   "cell_type": "code",
   "execution_count": 80,
   "metadata": {
    "colab": {
     "base_uri": "https://localhost:8080/",
     "height": 71
    },
    "colab_type": "code",
    "executionInfo": {
     "elapsed": 1197,
     "status": "ok",
     "timestamp": 1587733705757,
     "user": {
      "displayName": "Артём Чумаченко",
      "photoUrl": "https://lh3.googleusercontent.com/a-/AOh14GgR2sxoXN9SKFaMK_eYAT7p7tjaPjW6aTcO35uD=s64",
      "userId": "16586051220000351113"
     },
     "user_tz": -180
    },
    "id": "NRPamd2EYKBe",
    "outputId": "ffb44ae4-c090-4a64-b867-7a5671a2884e"
   },
   "outputs": [
    {
     "data": {
      "text/plain": [
       "tensor([[  1.,   2.,   3.],\n",
       "        [ 10.,  20.,  30.],\n",
       "        [100., 200., 300.]])"
      ]
     },
     "execution_count": 80,
     "metadata": {},
     "output_type": "execute_result"
    }
   ],
   "source": [
    "a"
   ]
  },
  {
   "cell_type": "markdown",
   "metadata": {
    "colab_type": "text",
    "id": "q8YhoxHPYKBh"
   },
   "source": [
    "* Dot product of vectors:"
   ]
  },
  {
   "cell_type": "code",
   "execution_count": 81,
   "metadata": {
    "colab": {},
    "colab_type": "code",
    "id": "i1pRtl7HYKBi"
   },
   "outputs": [],
   "source": [
    "a = torch.FloatTensor([1, 2, 3, 4, 5, 6])\n",
    "b = torch.FloatTensor([-1, -2, -4, -6, -8, -10])"
   ]
  },
  {
   "cell_type": "code",
   "execution_count": 82,
   "metadata": {
    "colab": {
     "base_uri": "https://localhost:8080/",
     "height": 35
    },
    "colab_type": "code",
    "executionInfo": {
     "elapsed": 1472,
     "status": "ok",
     "timestamp": 1587733715741,
     "user": {
      "displayName": "Артём Чумаченко",
      "photoUrl": "https://lh3.googleusercontent.com/a-/AOh14GgR2sxoXN9SKFaMK_eYAT7p7tjaPjW6aTcO35uD=s64",
      "userId": "16586051220000351113"
     },
     "user_tz": -180
    },
    "id": "qcS-28dwYKBp",
    "outputId": "e30f02c9-4b33-4be5-8104-fef07a55519d"
   },
   "outputs": [
    {
     "data": {
      "text/plain": [
       "tensor(-141.)"
      ]
     },
     "execution_count": 82,
     "metadata": {},
     "output_type": "execute_result"
    }
   ],
   "source": [
    "a.dot(b)"
   ]
  },
  {
   "cell_type": "code",
   "execution_count": 83,
   "metadata": {
    "colab": {
     "base_uri": "https://localhost:8080/",
     "height": 35
    },
    "colab_type": "code",
    "executionInfo": {
     "elapsed": 2553,
     "status": "ok",
     "timestamp": 1587733723094,
     "user": {
      "displayName": "Артём Чумаченко",
      "photoUrl": "https://lh3.googleusercontent.com/a-/AOh14GgR2sxoXN9SKFaMK_eYAT7p7tjaPjW6aTcO35uD=s64",
      "userId": "16586051220000351113"
     },
     "user_tz": -180
    },
    "id": "sBiRR1V3LP-r",
    "outputId": "0f54dc5a-be87-4de1-a3ce-999c3ce0388a"
   },
   "outputs": [
    {
     "data": {
      "text/plain": [
       "(torch.Size([6]), torch.Size([6]))"
      ]
     },
     "execution_count": 83,
     "metadata": {},
     "output_type": "execute_result"
    }
   ],
   "source": [
    "a.shape, b.shape"
   ]
  },
  {
   "cell_type": "code",
   "execution_count": 84,
   "metadata": {
    "colab": {
     "base_uri": "https://localhost:8080/",
     "height": 35
    },
    "colab_type": "code",
    "executionInfo": {
     "elapsed": 1785,
     "status": "ok",
     "timestamp": 1587733727083,
     "user": {
      "displayName": "Артём Чумаченко",
      "photoUrl": "https://lh3.googleusercontent.com/a-/AOh14GgR2sxoXN9SKFaMK_eYAT7p7tjaPjW6aTcO35uD=s64",
      "userId": "16586051220000351113"
     },
     "user_tz": -180
    },
    "id": "MXyhOelQYKBs",
    "outputId": "04bc59b9-9842-43b1-c525-c34a8c743212"
   },
   "outputs": [
    {
     "data": {
      "text/plain": [
       "tensor(-141.)"
      ]
     },
     "execution_count": 84,
     "metadata": {},
     "output_type": "execute_result"
    }
   ],
   "source": [
    "a @ b"
   ]
  },
  {
   "cell_type": "code",
   "execution_count": 85,
   "metadata": {
    "colab": {
     "base_uri": "https://localhost:8080/",
     "height": 35
    },
    "colab_type": "code",
    "executionInfo": {
     "elapsed": 1120,
     "status": "ok",
     "timestamp": 1587733734437,
     "user": {
      "displayName": "Артём Чумаченко",
      "photoUrl": "https://lh3.googleusercontent.com/a-/AOh14GgR2sxoXN9SKFaMK_eYAT7p7tjaPjW6aTcO35uD=s64",
      "userId": "16586051220000351113"
     },
     "user_tz": -180
    },
    "id": "sxqg4xhoYKBt",
    "outputId": "918b6ba2-a04b-450d-f048-774fd46d8bab"
   },
   "outputs": [
    {
     "data": {
      "text/plain": [
       "torch.Tensor"
      ]
     },
     "execution_count": 85,
     "metadata": {},
     "output_type": "execute_result"
    }
   ],
   "source": [
    "type(a)"
   ]
  },
  {
   "cell_type": "code",
   "execution_count": 86,
   "metadata": {
    "colab": {
     "base_uri": "https://localhost:8080/",
     "height": 35
    },
    "colab_type": "code",
    "executionInfo": {
     "elapsed": 1409,
     "status": "ok",
     "timestamp": 1587733736266,
     "user": {
      "displayName": "Артём Чумаченко",
      "photoUrl": "https://lh3.googleusercontent.com/a-/AOh14GgR2sxoXN9SKFaMK_eYAT7p7tjaPjW6aTcO35uD=s64",
      "userId": "16586051220000351113"
     },
     "user_tz": -180
    },
    "id": "_v2ZjPqDYKBz",
    "outputId": "ce0ec223-bdbd-4dc8-9af0-c24ec1dbe2bb"
   },
   "outputs": [
    {
     "data": {
      "text/plain": [
       "torch.Tensor"
      ]
     },
     "execution_count": 86,
     "metadata": {},
     "output_type": "execute_result"
    }
   ],
   "source": [
    "type(b)"
   ]
  },
  {
   "cell_type": "code",
   "execution_count": 87,
   "metadata": {
    "colab": {
     "base_uri": "https://localhost:8080/",
     "height": 35
    },
    "colab_type": "code",
    "executionInfo": {
     "elapsed": 1163,
     "status": "ok",
     "timestamp": 1587733739509,
     "user": {
      "displayName": "Артём Чумаченко",
      "photoUrl": "https://lh3.googleusercontent.com/a-/AOh14GgR2sxoXN9SKFaMK_eYAT7p7tjaPjW6aTcO35uD=s64",
      "userId": "16586051220000351113"
     },
     "user_tz": -180
    },
    "id": "UsWB9vTuYKB0",
    "outputId": "1b3d0acc-f053-439e-b76c-b6b820016b52"
   },
   "outputs": [
    {
     "data": {
      "text/plain": [
       "torch.Tensor"
      ]
     },
     "execution_count": 87,
     "metadata": {},
     "output_type": "execute_result"
    }
   ],
   "source": [
    "type(a @ b)"
   ]
  },
  {
   "cell_type": "markdown",
   "metadata": {
    "colab_type": "text",
    "id": "KSrnLwkGYKB1"
   },
   "source": [
    "* Matrix product:"
   ]
  },
  {
   "cell_type": "code",
   "execution_count": 88,
   "metadata": {
    "colab": {},
    "colab_type": "code",
    "id": "ViurnbjPYKB2"
   },
   "outputs": [],
   "source": [
    "a = torch.FloatTensor([[1, 2, 3], [10, 20, 30], [100, 200, 300]])\n",
    "b = torch.FloatTensor([[-1, -2, -3], [-10, -20, -30], [100, 200, 300]])"
   ]
  },
  {
   "cell_type": "code",
   "execution_count": 89,
   "metadata": {
    "colab": {
     "base_uri": "https://localhost:8080/",
     "height": 71
    },
    "colab_type": "code",
    "executionInfo": {
     "elapsed": 4254,
     "status": "ok",
     "timestamp": 1587733750589,
     "user": {
      "displayName": "Артём Чумаченко",
      "photoUrl": "https://lh3.googleusercontent.com/a-/AOh14GgR2sxoXN9SKFaMK_eYAT7p7tjaPjW6aTcO35uD=s64",
      "userId": "16586051220000351113"
     },
     "user_tz": -180
    },
    "id": "5TrCnfWiYKB3",
    "outputId": "14864d64-40c7-4466-b37a-f049ee86f9ff"
   },
   "outputs": [
    {
     "data": {
      "text/plain": [
       "tensor([[  279.,   558.,   837.],\n",
       "        [ 2790.,  5580.,  8370.],\n",
       "        [27900., 55800., 83700.]])"
      ]
     },
     "execution_count": 89,
     "metadata": {},
     "output_type": "execute_result"
    }
   ],
   "source": [
    "a.mm(b)"
   ]
  },
  {
   "cell_type": "code",
   "execution_count": 90,
   "metadata": {
    "colab": {
     "base_uri": "https://localhost:8080/",
     "height": 71
    },
    "colab_type": "code",
    "executionInfo": {
     "elapsed": 861,
     "status": "ok",
     "timestamp": 1587733752608,
     "user": {
      "displayName": "Артём Чумаченко",
      "photoUrl": "https://lh3.googleusercontent.com/a-/AOh14GgR2sxoXN9SKFaMK_eYAT7p7tjaPjW6aTcO35uD=s64",
      "userId": "16586051220000351113"
     },
     "user_tz": -180
    },
    "id": "HMzIz-_MYKB4",
    "outputId": "d6c06fe9-42af-465f-a157-4a1d38d29cae"
   },
   "outputs": [
    {
     "data": {
      "text/plain": [
       "tensor([[  279.,   558.,   837.],\n",
       "        [ 2790.,  5580.,  8370.],\n",
       "        [27900., 55800., 83700.]])"
      ]
     },
     "execution_count": 90,
     "metadata": {},
     "output_type": "execute_result"
    }
   ],
   "source": [
    "a @ b"
   ]
  },
  {
   "cell_type": "markdown",
   "metadata": {
    "colab_type": "text",
    "id": "Ig2pr52xYKB5"
   },
   "source": [
    "Remain unchanged:"
   ]
  },
  {
   "cell_type": "code",
   "execution_count": 91,
   "metadata": {
    "colab": {
     "base_uri": "https://localhost:8080/",
     "height": 71
    },
    "colab_type": "code",
    "executionInfo": {
     "elapsed": 2881,
     "status": "ok",
     "timestamp": 1587733758548,
     "user": {
      "displayName": "Артём Чумаченко",
      "photoUrl": "https://lh3.googleusercontent.com/a-/AOh14GgR2sxoXN9SKFaMK_eYAT7p7tjaPjW6aTcO35uD=s64",
      "userId": "16586051220000351113"
     },
     "user_tz": -180
    },
    "id": "22QOePSyYKB6",
    "outputId": "64aa66a7-2ba3-4bd8-d9f2-a29abeb663fc"
   },
   "outputs": [
    {
     "data": {
      "text/plain": [
       "tensor([[  1.,   2.,   3.],\n",
       "        [ 10.,  20.,  30.],\n",
       "        [100., 200., 300.]])"
      ]
     },
     "execution_count": 91,
     "metadata": {},
     "output_type": "execute_result"
    }
   ],
   "source": [
    "a"
   ]
  },
  {
   "cell_type": "code",
   "execution_count": 92,
   "metadata": {
    "colab": {
     "base_uri": "https://localhost:8080/",
     "height": 71
    },
    "colab_type": "code",
    "executionInfo": {
     "elapsed": 2175,
     "status": "ok",
     "timestamp": 1587733758552,
     "user": {
      "displayName": "Артём Чумаченко",
      "photoUrl": "https://lh3.googleusercontent.com/a-/AOh14GgR2sxoXN9SKFaMK_eYAT7p7tjaPjW6aTcO35uD=s64",
      "userId": "16586051220000351113"
     },
     "user_tz": -180
    },
    "id": "JHr6eKADYKB6",
    "outputId": "2ae6c4fe-1877-40ad-c2aa-2735182eb533"
   },
   "outputs": [
    {
     "data": {
      "text/plain": [
       "tensor([[ -1.,  -2.,  -3.],\n",
       "        [-10., -20., -30.],\n",
       "        [100., 200., 300.]])"
      ]
     },
     "execution_count": 92,
     "metadata": {},
     "output_type": "execute_result"
    }
   ],
   "source": [
    "b"
   ]
  },
  {
   "cell_type": "code",
   "execution_count": 93,
   "metadata": {
    "colab": {},
    "colab_type": "code",
    "id": "vtuvt20-YKB8"
   },
   "outputs": [],
   "source": [
    "a = torch.FloatTensor([[1, 2, 3], [10, 20, 30], [100, 200, 300]])\n",
    "b = torch.FloatTensor([[-1], [-10], [100]])"
   ]
  },
  {
   "cell_type": "code",
   "execution_count": 94,
   "metadata": {
    "colab": {
     "base_uri": "https://localhost:8080/",
     "height": 35
    },
    "colab_type": "code",
    "executionInfo": {
     "elapsed": 1369,
     "status": "ok",
     "timestamp": 1587733765050,
     "user": {
      "displayName": "Артём Чумаченко",
      "photoUrl": "https://lh3.googleusercontent.com/a-/AOh14GgR2sxoXN9SKFaMK_eYAT7p7tjaPjW6aTcO35uD=s64",
      "userId": "16586051220000351113"
     },
     "user_tz": -180
    },
    "id": "fdDnu5XjYKB9",
    "outputId": "2db13bfe-1bff-4a9d-b856-4885e11f58f5"
   },
   "outputs": [
    {
     "name": "stdout",
     "output_type": "stream",
     "text": [
      "torch.Size([3, 3]) torch.Size([3, 1])\n"
     ]
    }
   ],
   "source": [
    "print(a.shape, b.shape)"
   ]
  },
  {
   "cell_type": "code",
   "execution_count": 95,
   "metadata": {
    "colab": {
     "base_uri": "https://localhost:8080/",
     "height": 71
    },
    "colab_type": "code",
    "executionInfo": {
     "elapsed": 2538,
     "status": "ok",
     "timestamp": 1587733774558,
     "user": {
      "displayName": "Артём Чумаченко",
      "photoUrl": "https://lh3.googleusercontent.com/a-/AOh14GgR2sxoXN9SKFaMK_eYAT7p7tjaPjW6aTcO35uD=s64",
      "userId": "16586051220000351113"
     },
     "user_tz": -180
    },
    "id": "oD4N4WN8YKB_",
    "outputId": "88cf0a29-7c79-4570-ff98-5e52cee7a80a"
   },
   "outputs": [
    {
     "data": {
      "text/plain": [
       "tensor([[  279.],\n",
       "        [ 2790.],\n",
       "        [27900.]])"
      ]
     },
     "execution_count": 95,
     "metadata": {},
     "output_type": "execute_result"
    }
   ],
   "source": [
    "a @ b"
   ]
  },
  {
   "cell_type": "markdown",
   "metadata": {
    "colab_type": "text",
    "id": "va9w-BavYKCB"
   },
   "source": [
    "If we unroll the tensor `b` in an array (`torch.view(-1)`) the multiplication would be like with the column:"
   ]
  },
  {
   "cell_type": "code",
   "execution_count": 96,
   "metadata": {
    "colab": {
     "base_uri": "https://localhost:8080/",
     "height": 71
    },
    "colab_type": "code",
    "executionInfo": {
     "elapsed": 1515,
     "status": "ok",
     "timestamp": 1587733780356,
     "user": {
      "displayName": "Артём Чумаченко",
      "photoUrl": "https://lh3.googleusercontent.com/a-/AOh14GgR2sxoXN9SKFaMK_eYAT7p7tjaPjW6aTcO35uD=s64",
      "userId": "16586051220000351113"
     },
     "user_tz": -180
    },
    "id": "V7KsdYcBYKCC",
    "outputId": "4f3db536-72a2-43d6-872e-656d55249977"
   },
   "outputs": [
    {
     "data": {
      "text/plain": [
       "tensor([[ -1.],\n",
       "        [-10.],\n",
       "        [100.]])"
      ]
     },
     "execution_count": 96,
     "metadata": {},
     "output_type": "execute_result"
    }
   ],
   "source": [
    "b"
   ]
  },
  {
   "cell_type": "code",
   "execution_count": 97,
   "metadata": {
    "colab": {
     "base_uri": "https://localhost:8080/",
     "height": 35
    },
    "colab_type": "code",
    "executionInfo": {
     "elapsed": 2247,
     "status": "ok",
     "timestamp": 1587733784129,
     "user": {
      "displayName": "Артём Чумаченко",
      "photoUrl": "https://lh3.googleusercontent.com/a-/AOh14GgR2sxoXN9SKFaMK_eYAT7p7tjaPjW6aTcO35uD=s64",
      "userId": "16586051220000351113"
     },
     "user_tz": -180
    },
    "id": "t7k6spayYKCF",
    "outputId": "af58f559-7324-4b3d-9d3f-d7c8867f6219"
   },
   "outputs": [
    {
     "data": {
      "text/plain": [
       "tensor([ -1., -10., 100.])"
      ]
     },
     "execution_count": 97,
     "metadata": {},
     "output_type": "execute_result"
    }
   ],
   "source": [
    "b.view(-1)"
   ]
  },
  {
   "cell_type": "code",
   "execution_count": 98,
   "metadata": {
    "colab": {
     "base_uri": "https://localhost:8080/",
     "height": 35
    },
    "colab_type": "code",
    "executionInfo": {
     "elapsed": 1323,
     "status": "ok",
     "timestamp": 1587733786377,
     "user": {
      "displayName": "Артём Чумаченко",
      "photoUrl": "https://lh3.googleusercontent.com/a-/AOh14GgR2sxoXN9SKFaMK_eYAT7p7tjaPjW6aTcO35uD=s64",
      "userId": "16586051220000351113"
     },
     "user_tz": -180
    },
    "id": "8u8xQ20bYKCH",
    "outputId": "2353aed5-ec0c-4861-bda9-3ebefb3f2cd3"
   },
   "outputs": [
    {
     "data": {
      "text/plain": [
       "tensor([  279.,  2790., 27900.])"
      ]
     },
     "execution_count": 98,
     "metadata": {},
     "output_type": "execute_result"
    }
   ],
   "source": [
    "a @ b.view(-1)"
   ]
  },
  {
   "cell_type": "code",
   "execution_count": 99,
   "metadata": {
    "colab": {
     "base_uri": "https://localhost:8080/",
     "height": 35
    },
    "colab_type": "code",
    "executionInfo": {
     "elapsed": 1155,
     "status": "ok",
     "timestamp": 1587733793439,
     "user": {
      "displayName": "Артём Чумаченко",
      "photoUrl": "https://lh3.googleusercontent.com/a-/AOh14GgR2sxoXN9SKFaMK_eYAT7p7tjaPjW6aTcO35uD=s64",
      "userId": "16586051220000351113"
     },
     "user_tz": -180
    },
    "id": "QvCu1sJEYKCJ",
    "outputId": "9edd7eeb-615a-4563-b49b-2f27592127ad"
   },
   "outputs": [
    {
     "data": {
      "text/plain": [
       "tensor([  279.,  2790., 27900.])"
      ]
     },
     "execution_count": 99,
     "metadata": {},
     "output_type": "execute_result"
    }
   ],
   "source": [
    "a.mv(b.view(-1))"
   ]
  },
  {
   "cell_type": "markdown",
   "metadata": {
    "colab_type": "text",
    "id": "gZitrCN6YKCL"
   },
   "source": [
    "**From NumPu to PyTorch conversion**:"
   ]
  },
  {
   "cell_type": "code",
   "execution_count": 100,
   "metadata": {
    "colab": {
     "base_uri": "https://localhost:8080/",
     "height": 71
    },
    "colab_type": "code",
    "executionInfo": {
     "elapsed": 3045,
     "status": "ok",
     "timestamp": 1587733806768,
     "user": {
      "displayName": "Артём Чумаченко",
      "photoUrl": "https://lh3.googleusercontent.com/a-/AOh14GgR2sxoXN9SKFaMK_eYAT7p7tjaPjW6aTcO35uD=s64",
      "userId": "16586051220000351113"
     },
     "user_tz": -180
    },
    "id": "bnLS4CGXYKCL",
    "outputId": "ca1fabe8-4964-4e21-b492-cf67092ce780"
   },
   "outputs": [
    {
     "data": {
      "text/plain": [
       "array([[0.40851286, 0.71652411, 0.52773266],\n",
       "       [0.20783022, 0.36958534, 0.86857381],\n",
       "       [0.86971888, 0.87320081, 0.58352306]])"
      ]
     },
     "execution_count": 100,
     "metadata": {},
     "output_type": "execute_result"
    }
   ],
   "source": [
    "import numpy as np\n",
    "\n",
    "a = np.random.rand(3, 3)\n",
    "a"
   ]
  },
  {
   "cell_type": "code",
   "execution_count": 101,
   "metadata": {
    "colab": {
     "base_uri": "https://localhost:8080/",
     "height": 71
    },
    "colab_type": "code",
    "executionInfo": {
     "elapsed": 3600,
     "status": "ok",
     "timestamp": 1587733810812,
     "user": {
      "displayName": "Артём Чумаченко",
      "photoUrl": "https://lh3.googleusercontent.com/a-/AOh14GgR2sxoXN9SKFaMK_eYAT7p7tjaPjW6aTcO35uD=s64",
      "userId": "16586051220000351113"
     },
     "user_tz": -180
    },
    "id": "PXge57waYKCM",
    "outputId": "07518ac3-a5a1-4538-f36a-a7a799a2c98e"
   },
   "outputs": [
    {
     "data": {
      "text/plain": [
       "tensor([[0.4085, 0.7165, 0.5277],\n",
       "        [0.2078, 0.3696, 0.8686],\n",
       "        [0.8697, 0.8732, 0.5835]], dtype=torch.float64)"
      ]
     },
     "execution_count": 101,
     "metadata": {},
     "output_type": "execute_result"
    }
   ],
   "source": [
    "b = torch.from_numpy(a)\n",
    "b"
   ]
  },
  {
   "cell_type": "code",
   "execution_count": 103,
   "metadata": {},
   "outputs": [
    {
     "data": {
      "text/plain": [
       "array([[0.40851286, 0.71652411, 0.52773266],\n",
       "       [0.20783022, 0.36958534, 0.86857381],\n",
       "       [0.86971888, 0.87320081, 0.58352306]])"
      ]
     },
     "execution_count": 103,
     "metadata": {},
     "output_type": "execute_result"
    }
   ],
   "source": [
    "b.numpy()"
   ]
  },
  {
   "cell_type": "markdown",
   "metadata": {
    "colab_type": "text",
    "id": "Nvcr3ymPYKCN"
   },
   "source": [
    "**NOTE!** `a` and `b` have the same data storage, so the changes in one tensor will lead to the changes in another:"
   ]
  },
  {
   "cell_type": "code",
   "execution_count": 104,
   "metadata": {
    "colab": {
     "base_uri": "https://localhost:8080/",
     "height": 71
    },
    "colab_type": "code",
    "executionInfo": {
     "elapsed": 1375,
     "status": "ok",
     "timestamp": 1587733822265,
     "user": {
      "displayName": "Артём Чумаченко",
      "photoUrl": "https://lh3.googleusercontent.com/a-/AOh14GgR2sxoXN9SKFaMK_eYAT7p7tjaPjW6aTcO35uD=s64",
      "userId": "16586051220000351113"
     },
     "user_tz": -180
    },
    "id": "0N_ZW6TQYKCN",
    "outputId": "20666b46-a488-4326-a87e-9defce438402"
   },
   "outputs": [
    {
     "data": {
      "text/plain": [
       "tensor([[0., 0., 0.],\n",
       "        [0., 0., 0.],\n",
       "        [0., 0., 0.]], dtype=torch.float64)"
      ]
     },
     "execution_count": 104,
     "metadata": {},
     "output_type": "execute_result"
    }
   ],
   "source": [
    "b -= b\n",
    "b"
   ]
  },
  {
   "cell_type": "code",
   "execution_count": 105,
   "metadata": {
    "colab": {
     "base_uri": "https://localhost:8080/",
     "height": 71
    },
    "colab_type": "code",
    "executionInfo": {
     "elapsed": 1187,
     "status": "ok",
     "timestamp": 1587733825217,
     "user": {
      "displayName": "Артём Чумаченко",
      "photoUrl": "https://lh3.googleusercontent.com/a-/AOh14GgR2sxoXN9SKFaMK_eYAT7p7tjaPjW6aTcO35uD=s64",
      "userId": "16586051220000351113"
     },
     "user_tz": -180
    },
    "id": "wzUnCKsiYKCP",
    "outputId": "bd12c52a-5385-4164-a5b0-102eb4a77474"
   },
   "outputs": [
    {
     "data": {
      "text/plain": [
       "array([[0., 0., 0.],\n",
       "       [0., 0., 0.],\n",
       "       [0., 0., 0.]])"
      ]
     },
     "execution_count": 105,
     "metadata": {},
     "output_type": "execute_result"
    }
   ],
   "source": [
    "a"
   ]
  },
  {
   "cell_type": "markdown",
   "metadata": {
    "colab_type": "text",
    "id": "Al73RqKSYKCR"
   },
   "source": [
    "**From PyTorch to NumPy conversion:**"
   ]
  },
  {
   "cell_type": "code",
   "execution_count": 106,
   "metadata": {
    "colab": {
     "base_uri": "https://localhost:8080/",
     "height": 142
    },
    "colab_type": "code",
    "executionInfo": {
     "elapsed": 1318,
     "status": "ok",
     "timestamp": 1587733830702,
     "user": {
      "displayName": "Артём Чумаченко",
      "photoUrl": "https://lh3.googleusercontent.com/a-/AOh14GgR2sxoXN9SKFaMK_eYAT7p7tjaPjW6aTcO35uD=s64",
      "userId": "16586051220000351113"
     },
     "user_tz": -180
    },
    "id": "u5rngw4vYKCR",
    "outputId": "856e2e01-3bb1-47c1-b792-190321894a3e"
   },
   "outputs": [
    {
     "data": {
      "text/plain": [
       "tensor([[[0.0000e+00, 0.0000e+00, 0.0000e+00, 0.0000e+00],\n",
       "         [0.0000e+00, 8.4490e-39, 2.6302e+20, 6.1943e-04],\n",
       "         [7.2056e+22, 2.1720e+29, 1.8057e+28, 1.8704e+20]],\n",
       "\n",
       "        [[7.3162e+34, 7.9801e-10, 5.8270e-10, 5.8270e-10],\n",
       "         [1.9406e+17, 1.3563e-19, 1.3563e-19, 2.4754e-12],\n",
       "         [2.4754e-12, 7.8447e+17, 2.0190e-19, 1.3563e-19]]])"
      ]
     },
     "execution_count": 106,
     "metadata": {},
     "output_type": "execute_result"
    }
   ],
   "source": [
    "a = torch.FloatTensor(2, 3, 4)\n",
    "a"
   ]
  },
  {
   "cell_type": "code",
   "execution_count": 107,
   "metadata": {
    "colab": {
     "base_uri": "https://localhost:8080/",
     "height": 35
    },
    "colab_type": "code",
    "executionInfo": {
     "elapsed": 1059,
     "status": "ok",
     "timestamp": 1587733836993,
     "user": {
      "displayName": "Артём Чумаченко",
      "photoUrl": "https://lh3.googleusercontent.com/a-/AOh14GgR2sxoXN9SKFaMK_eYAT7p7tjaPjW6aTcO35uD=s64",
      "userId": "16586051220000351113"
     },
     "user_tz": -180
    },
    "id": "yjK68Kk-YKCS",
    "outputId": "86f735c1-8684-49aa-8bef-3ba66212a1df"
   },
   "outputs": [
    {
     "data": {
      "text/plain": [
       "torch.Tensor"
      ]
     },
     "execution_count": 107,
     "metadata": {},
     "output_type": "execute_result"
    }
   ],
   "source": [
    "type(a)"
   ]
  },
  {
   "cell_type": "code",
   "execution_count": 108,
   "metadata": {
    "colab": {
     "base_uri": "https://localhost:8080/",
     "height": 160
    },
    "colab_type": "code",
    "executionInfo": {
     "elapsed": 1117,
     "status": "ok",
     "timestamp": 1587733839074,
     "user": {
      "displayName": "Артём Чумаченко",
      "photoUrl": "https://lh3.googleusercontent.com/a-/AOh14GgR2sxoXN9SKFaMK_eYAT7p7tjaPjW6aTcO35uD=s64",
      "userId": "16586051220000351113"
     },
     "user_tz": -180
    },
    "id": "viLUF7gQYKCU",
    "outputId": "a1ed3950-ed1d-4574-f5cd-8b3267bcc9bb"
   },
   "outputs": [
    {
     "data": {
      "text/plain": [
       "array([[[0.0000000e+00, 0.0000000e+00, 0.0000000e+00, 0.0000000e+00],\n",
       "        [0.0000000e+00, 8.4490184e-39, 2.6302139e+20, 6.1943312e-04],\n",
       "        [7.2055842e+22, 2.1720272e+29, 1.8056946e+28, 1.8703509e+20]],\n",
       "\n",
       "       [[7.3161751e+34, 7.9801277e-10, 5.8270444e-10, 5.8270444e-10],\n",
       "        [1.9406459e+17, 1.3563257e-19, 1.3563156e-19, 2.4753730e-12],\n",
       "        [2.4753602e-12, 7.8447296e+17, 2.0189881e-19, 1.3563156e-19]]],\n",
       "      dtype=float32)"
      ]
     },
     "execution_count": 108,
     "metadata": {},
     "output_type": "execute_result"
    }
   ],
   "source": [
    "x = a.numpy()\n",
    "x"
   ]
  },
  {
   "cell_type": "code",
   "execution_count": 109,
   "metadata": {
    "colab": {
     "base_uri": "https://localhost:8080/",
     "height": 35
    },
    "colab_type": "code",
    "executionInfo": {
     "elapsed": 2039,
     "status": "ok",
     "timestamp": 1587733844959,
     "user": {
      "displayName": "Артём Чумаченко",
      "photoUrl": "https://lh3.googleusercontent.com/a-/AOh14GgR2sxoXN9SKFaMK_eYAT7p7tjaPjW6aTcO35uD=s64",
      "userId": "16586051220000351113"
     },
     "user_tz": -180
    },
    "id": "9HxgiLxKYKCV",
    "outputId": "93cc9fc0-97e1-4e70-967d-8ea2bcb5784e"
   },
   "outputs": [
    {
     "data": {
      "text/plain": [
       "(2, 3, 4)"
      ]
     },
     "execution_count": 109,
     "metadata": {},
     "output_type": "execute_result"
    }
   ],
   "source": [
    "x.shape"
   ]
  },
  {
   "cell_type": "code",
   "execution_count": 110,
   "metadata": {
    "colab": {
     "base_uri": "https://localhost:8080/",
     "height": 35
    },
    "colab_type": "code",
    "executionInfo": {
     "elapsed": 655,
     "status": "ok",
     "timestamp": 1587733846447,
     "user": {
      "displayName": "Артём Чумаченко",
      "photoUrl": "https://lh3.googleusercontent.com/a-/AOh14GgR2sxoXN9SKFaMK_eYAT7p7tjaPjW6aTcO35uD=s64",
      "userId": "16586051220000351113"
     },
     "user_tz": -180
    },
    "id": "SdW5bhmeYKCX",
    "outputId": "5a0a1710-7a2a-4143-d76c-b658aa28e959"
   },
   "outputs": [
    {
     "data": {
      "text/plain": [
       "numpy.ndarray"
      ]
     },
     "execution_count": 110,
     "metadata": {},
     "output_type": "execute_result"
    }
   ],
   "source": [
    "type(x)"
   ]
  },
  {
   "cell_type": "code",
   "execution_count": 111,
   "metadata": {
    "colab": {},
    "colab_type": "code",
    "id": "GbCc-vnWDj1l"
   },
   "outputs": [],
   "source": [
    "x -= x"
   ]
  },
  {
   "cell_type": "code",
   "execution_count": 112,
   "metadata": {
    "colab": {
     "base_uri": "https://localhost:8080/",
     "height": 142
    },
    "colab_type": "code",
    "executionInfo": {
     "elapsed": 1768,
     "status": "ok",
     "timestamp": 1587733856166,
     "user": {
      "displayName": "Артём Чумаченко",
      "photoUrl": "https://lh3.googleusercontent.com/a-/AOh14GgR2sxoXN9SKFaMK_eYAT7p7tjaPjW6aTcO35uD=s64",
      "userId": "16586051220000351113"
     },
     "user_tz": -180
    },
    "id": "Ui-4DptBDlet",
    "outputId": "005fe5ff-6aaa-4e07-fd2d-fc0eaf0e0a57"
   },
   "outputs": [
    {
     "data": {
      "text/plain": [
       "tensor([[[0., 0., 0., 0.],\n",
       "         [0., 0., 0., 0.],\n",
       "         [0., 0., 0., 0.]],\n",
       "\n",
       "        [[0., 0., 0., 0.],\n",
       "         [0., 0., 0., 0.],\n",
       "         [0., 0., 0., 0.]]])"
      ]
     },
     "execution_count": 112,
     "metadata": {},
     "output_type": "execute_result"
    }
   ],
   "source": [
    "a"
   ]
  },
  {
   "cell_type": "code",
   "execution_count": 113,
   "metadata": {},
   "outputs": [
    {
     "data": {
      "text/plain": [
       "array([[[0., 0., 0., 0.],\n",
       "        [0., 0., 0., 0.],\n",
       "        [0., 0., 0., 0.]],\n",
       "\n",
       "       [[0., 0., 0., 0.],\n",
       "        [0., 0., 0., 0.],\n",
       "        [0., 0., 0., 0.]]], dtype=float32)"
      ]
     },
     "execution_count": 113,
     "metadata": {},
     "output_type": "execute_result"
    }
   ],
   "source": [
    "x"
   ]
  },
  {
   "cell_type": "markdown",
   "metadata": {
    "colab_type": "text",
    "id": "7-KS81rUYKCY"
   },
   "source": [
    "Let's write the `forward_pass(X, w)` ($w_0$ is a part of the $w$) for a single neuron (activation = sigmoid) using PyTorch:"
   ]
  },
  {
   "cell_type": "code",
   "execution_count": 114,
   "metadata": {
    "colab": {},
    "colab_type": "code",
    "id": "vkaIwpn6YKCY"
   },
   "outputs": [],
   "source": [
    "def forward_pass(X, w):\n",
    "    return torch.sigmoid(X @ w)"
   ]
  },
  {
   "cell_type": "code",
   "execution_count": 119,
   "metadata": {
    "colab": {
     "base_uri": "https://localhost:8080/",
     "height": 71
    },
    "colab_type": "code",
    "executionInfo": {
     "elapsed": 2101,
     "status": "ok",
     "timestamp": 1587733884851,
     "user": {
      "displayName": "Артём Чумаченко",
      "photoUrl": "https://lh3.googleusercontent.com/a-/AOh14GgR2sxoXN9SKFaMK_eYAT7p7tjaPjW6aTcO35uD=s64",
      "userId": "16586051220000351113"
     },
     "user_tz": -180
    },
    "id": "VyqlDItxYKCZ",
    "outputId": "8f842562-3079-4f95-99b2-0d5c27a85c55"
   },
   "outputs": [
    {
     "name": "stdout",
     "output_type": "stream",
     "text": [
      "result: tensor([[1.0000],\n",
      "        [0.9985],\n",
      "        [0.0474]])\n"
     ]
    }
   ],
   "source": [
    "X = torch.FloatTensor([[-5, 5], [2, 3], [1, -1]])\n",
    "w = torch.FloatTensor([[-0.5], [2.5]])\n",
    "result = forward_pass(X, w)\n",
    "print('result: {}'.format(result))"
   ]
  },
  {
   "cell_type": "code",
   "execution_count": 121,
   "metadata": {},
   "outputs": [
    {
     "data": {
      "text/plain": [
       "tensor([[-5.,  5.],\n",
       "        [ 2.,  3.],\n",
       "        [ 1., -1.]])"
      ]
     },
     "execution_count": 121,
     "metadata": {},
     "output_type": "execute_result"
    }
   ],
   "source": [
    "X"
   ]
  },
  {
   "cell_type": "code",
   "execution_count": 125,
   "metadata": {},
   "outputs": [
    {
     "data": {
      "text/plain": [
       "torch.Size([3, 2])"
      ]
     },
     "execution_count": 125,
     "metadata": {},
     "output_type": "execute_result"
    }
   ],
   "source": [
    "X.shape"
   ]
  },
  {
   "cell_type": "code",
   "execution_count": 122,
   "metadata": {},
   "outputs": [
    {
     "data": {
      "text/plain": [
       "tensor([[-0.5000],\n",
       "        [ 2.5000]])"
      ]
     },
     "execution_count": 122,
     "metadata": {},
     "output_type": "execute_result"
    }
   ],
   "source": [
    "w"
   ]
  },
  {
   "cell_type": "code",
   "execution_count": 128,
   "metadata": {},
   "outputs": [
    {
     "data": {
      "text/plain": [
       "tensor([[15.0000],\n",
       "        [ 6.5000],\n",
       "        [-3.0000]])"
      ]
     },
     "execution_count": 128,
     "metadata": {},
     "output_type": "execute_result"
    }
   ],
   "source": [
    "X @ w"
   ]
  },
  {
   "cell_type": "code",
   "execution_count": 126,
   "metadata": {},
   "outputs": [
    {
     "data": {
      "text/plain": [
       "torch.Size([3, 1])"
      ]
     },
     "execution_count": 126,
     "metadata": {},
     "output_type": "execute_result"
    }
   ],
   "source": [
    "(X @ w).shape"
   ]
  },
  {
   "cell_type": "code",
   "execution_count": 150,
   "metadata": {},
   "outputs": [
    {
     "data": {
      "text/plain": [
       "tensor([15.])"
      ]
     },
     "execution_count": 150,
     "metadata": {},
     "output_type": "execute_result"
    }
   ],
   "source": [
    "torch.FloatTensor([15])"
   ]
  },
  {
   "cell_type": "code",
   "execution_count": 158,
   "metadata": {},
   "outputs": [
    {
     "data": {
      "text/plain": [
       "tensor([1.0000])"
      ]
     },
     "execution_count": 158,
     "metadata": {},
     "output_type": "execute_result"
    }
   ],
   "source": [
    "torch.sigmoid(torch.FloatTensor([15]))"
   ]
  },
  {
   "cell_type": "markdown",
   "metadata": {
    "colab_type": "text",
    "id": "MzLVLQ2GYKCa"
   },
   "source": [
    "<h3 style=\"text-align: center;\"><a href=\"https://ru.wikipedia.org/wiki/CUDA\">CUDA</a></h3>"
   ]
  },
  {
   "cell_type": "markdown",
   "metadata": {
    "colab_type": "text",
    "id": "PrIicAAiYKCa"
   },
   "source": [
    "[CUDA documentation](https://docs.nvidia.com/cuda/)"
   ]
  },
  {
   "cell_type": "markdown",
   "metadata": {
    "colab_type": "text",
    "id": "2nDkAG6NYKCa"
   },
   "source": [
    "We can use both CPU (Central Processing Unit) and GPU (Graphical Processing Unit) to make the computations with PyTorch. We can switch between them easily, this is one of the most important things in PyTorch framework."
   ]
  },
  {
   "cell_type": "code",
   "execution_count": 159,
   "metadata": {
    "colab": {
     "base_uri": "https://localhost:8080/",
     "height": 142
    },
    "colab_type": "code",
    "executionInfo": {
     "elapsed": 1218,
     "status": "ok",
     "timestamp": 1587733896014,
     "user": {
      "displayName": "Артём Чумаченко",
      "photoUrl": "https://lh3.googleusercontent.com/a-/AOh14GgR2sxoXN9SKFaMK_eYAT7p7tjaPjW6aTcO35uD=s64",
      "userId": "16586051220000351113"
     },
     "user_tz": -180
    },
    "id": "_0Nsl2IoYKCa",
    "outputId": "e9311f87-5695-40c0-f08c-73218b1639e2"
   },
   "outputs": [
    {
     "data": {
      "text/plain": [
       "tensor([[0.3874, 0.2763, 0.1586,  ..., 0.6383, 0.8176, 0.5834],\n",
       "        [0.8154, 0.6174, 0.4513,  ..., 0.1574, 0.6954, 0.3028],\n",
       "        [0.9144, 0.1274, 0.3186,  ..., 0.1373, 0.1665, 0.5577],\n",
       "        ...,\n",
       "        [0.3105, 0.7947, 0.1909,  ..., 0.5093, 0.5331, 0.9961],\n",
       "        [0.5285, 0.8306, 0.2988,  ..., 0.6481, 0.8516, 0.3906],\n",
       "        [0.3814, 0.5205, 0.7233,  ..., 0.4843, 0.2689, 0.5263]])"
      ]
     },
     "execution_count": 159,
     "metadata": {},
     "output_type": "execute_result"
    }
   ],
   "source": [
    "x = torch.FloatTensor(1024, 1024).uniform_()\n",
    "x"
   ]
  },
  {
   "cell_type": "code",
   "execution_count": 160,
   "metadata": {
    "colab": {
     "base_uri": "https://localhost:8080/",
     "height": 35
    },
    "colab_type": "code",
    "executionInfo": {
     "elapsed": 1114,
     "status": "ok",
     "timestamp": 1587733899200,
     "user": {
      "displayName": "Артём Чумаченко",
      "photoUrl": "https://lh3.googleusercontent.com/a-/AOh14GgR2sxoXN9SKFaMK_eYAT7p7tjaPjW6aTcO35uD=s64",
      "userId": "16586051220000351113"
     },
     "user_tz": -180
    },
    "id": "FVr5_SAdYKCb",
    "outputId": "8b27584f-d3c5-440a-a250-94c59bc25a70"
   },
   "outputs": [
    {
     "data": {
      "text/plain": [
       "False"
      ]
     },
     "execution_count": 160,
     "metadata": {},
     "output_type": "execute_result"
    }
   ],
   "source": [
    "x.is_cuda"
   ]
  },
  {
   "cell_type": "markdown",
   "metadata": {
    "colab_type": "text",
    "id": "mAy8GGXAYKCd"
   },
   "source": [
    "Place a tensor on GPU:"
   ]
  },
  {
   "cell_type": "code",
   "execution_count": 161,
   "metadata": {
    "colab": {},
    "colab_type": "code",
    "id": "6UGKZbfyYKCd"
   },
   "outputs": [
    {
     "ename": "AssertionError",
     "evalue": "Torch not compiled with CUDA enabled",
     "output_type": "error",
     "traceback": [
      "\u001b[1;31m---------------------------------------------------------------------------\u001b[0m",
      "\u001b[1;31mAssertionError\u001b[0m                            Traceback (most recent call last)",
      "\u001b[1;32m<ipython-input-161-298f8d08c218>\u001b[0m in \u001b[0;36m<module>\u001b[1;34m\u001b[0m\n\u001b[1;32m----> 1\u001b[1;33m \u001b[0mx\u001b[0m \u001b[1;33m=\u001b[0m \u001b[0mx\u001b[0m\u001b[1;33m.\u001b[0m\u001b[0mcuda\u001b[0m\u001b[1;33m(\u001b[0m\u001b[1;33m)\u001b[0m\u001b[1;33m\u001b[0m\u001b[1;33m\u001b[0m\u001b[0m\n\u001b[0m",
      "\u001b[1;32m~\\Anaconda3\\lib\\site-packages\\torch\\cuda\\__init__.py\u001b[0m in \u001b[0;36m_lazy_init\u001b[1;34m()\u001b[0m\n\u001b[0;32m    147\u001b[0m             raise RuntimeError(\n\u001b[0;32m    148\u001b[0m                 \"Cannot re-initialize CUDA in forked subprocess. \" + msg)\n\u001b[1;32m--> 149\u001b[1;33m         \u001b[0m_check_driver\u001b[0m\u001b[1;33m(\u001b[0m\u001b[1;33m)\u001b[0m\u001b[1;33m\u001b[0m\u001b[1;33m\u001b[0m\u001b[0m\n\u001b[0m\u001b[0;32m    150\u001b[0m         \u001b[1;32mif\u001b[0m \u001b[0m_cudart\u001b[0m \u001b[1;32mis\u001b[0m \u001b[1;32mNone\u001b[0m\u001b[1;33m:\u001b[0m\u001b[1;33m\u001b[0m\u001b[1;33m\u001b[0m\u001b[0m\n\u001b[0;32m    151\u001b[0m             raise AssertionError(\n",
      "\u001b[1;32m~\\Anaconda3\\lib\\site-packages\\torch\\cuda\\__init__.py\u001b[0m in \u001b[0;36m_check_driver\u001b[1;34m()\u001b[0m\n\u001b[0;32m     45\u001b[0m \u001b[1;32mdef\u001b[0m \u001b[0m_check_driver\u001b[0m\u001b[1;33m(\u001b[0m\u001b[1;33m)\u001b[0m\u001b[1;33m:\u001b[0m\u001b[1;33m\u001b[0m\u001b[1;33m\u001b[0m\u001b[0m\n\u001b[0;32m     46\u001b[0m     \u001b[1;32mif\u001b[0m \u001b[1;32mnot\u001b[0m \u001b[0mhasattr\u001b[0m\u001b[1;33m(\u001b[0m\u001b[0mtorch\u001b[0m\u001b[1;33m.\u001b[0m\u001b[0m_C\u001b[0m\u001b[1;33m,\u001b[0m \u001b[1;34m'_cuda_isDriverSufficient'\u001b[0m\u001b[1;33m)\u001b[0m\u001b[1;33m:\u001b[0m\u001b[1;33m\u001b[0m\u001b[1;33m\u001b[0m\u001b[0m\n\u001b[1;32m---> 47\u001b[1;33m         \u001b[1;32mraise\u001b[0m \u001b[0mAssertionError\u001b[0m\u001b[1;33m(\u001b[0m\u001b[1;34m\"Torch not compiled with CUDA enabled\"\u001b[0m\u001b[1;33m)\u001b[0m\u001b[1;33m\u001b[0m\u001b[1;33m\u001b[0m\u001b[0m\n\u001b[0m\u001b[0;32m     48\u001b[0m     \u001b[1;32mif\u001b[0m \u001b[1;32mnot\u001b[0m \u001b[0mtorch\u001b[0m\u001b[1;33m.\u001b[0m\u001b[0m_C\u001b[0m\u001b[1;33m.\u001b[0m\u001b[0m_cuda_isDriverSufficient\u001b[0m\u001b[1;33m(\u001b[0m\u001b[1;33m)\u001b[0m\u001b[1;33m:\u001b[0m\u001b[1;33m\u001b[0m\u001b[1;33m\u001b[0m\u001b[0m\n\u001b[0;32m     49\u001b[0m         \u001b[1;32mif\u001b[0m \u001b[0mtorch\u001b[0m\u001b[1;33m.\u001b[0m\u001b[0m_C\u001b[0m\u001b[1;33m.\u001b[0m\u001b[0m_cuda_getDriverVersion\u001b[0m\u001b[1;33m(\u001b[0m\u001b[1;33m)\u001b[0m \u001b[1;33m==\u001b[0m \u001b[1;36m0\u001b[0m\u001b[1;33m:\u001b[0m\u001b[1;33m\u001b[0m\u001b[1;33m\u001b[0m\u001b[0m\n",
      "\u001b[1;31mAssertionError\u001b[0m: Torch not compiled with CUDA enabled"
     ]
    }
   ],
   "source": [
    "x = x.cuda()"
   ]
  },
  {
   "cell_type": "code",
   "execution_count": 107,
   "metadata": {
    "colab": {
     "base_uri": "https://localhost:8080/",
     "height": 160
    },
    "colab_type": "code",
    "executionInfo": {
     "elapsed": 1813,
     "status": "ok",
     "timestamp": 1587733920074,
     "user": {
      "displayName": "Артём Чумаченко",
      "photoUrl": "https://lh3.googleusercontent.com/a-/AOh14GgR2sxoXN9SKFaMK_eYAT7p7tjaPjW6aTcO35uD=s64",
      "userId": "16586051220000351113"
     },
     "user_tz": -180
    },
    "id": "ue2SLd9nYKCd",
    "outputId": "7bbc9fd4-099a-4910-cc5e-021e2634d431"
   },
   "outputs": [
    {
     "data": {
      "text/plain": [
       "tensor([[0.3083, 0.9577, 0.0732,  ..., 0.1199, 0.4137, 0.1347],\n",
       "        [0.3379, 0.0818, 0.6006,  ..., 0.0430, 0.4499, 0.0460],\n",
       "        [0.5017, 0.0185, 0.4142,  ..., 0.4759, 0.0263, 0.4370],\n",
       "        ...,\n",
       "        [0.0559, 0.1087, 0.2077,  ..., 0.5617, 0.5298, 0.6181],\n",
       "        [0.5342, 0.8853, 0.4117,  ..., 0.2828, 0.9102, 0.2873],\n",
       "        [0.0110, 0.8351, 0.8053,  ..., 0.5667, 0.7524, 0.9979]],\n",
       "       device='cuda:0')"
      ]
     },
     "execution_count": 107,
     "metadata": {
      "tags": []
     },
     "output_type": "execute_result"
    }
   ],
   "source": [
    "x"
   ]
  },
  {
   "cell_type": "code",
   "execution_count": 108,
   "metadata": {
    "colab": {
     "base_uri": "https://localhost:8080/",
     "height": 160
    },
    "colab_type": "code",
    "executionInfo": {
     "elapsed": 1045,
     "status": "ok",
     "timestamp": 1587733945972,
     "user": {
      "displayName": "Артём Чумаченко",
      "photoUrl": "https://lh3.googleusercontent.com/a-/AOh14GgR2sxoXN9SKFaMK_eYAT7p7tjaPjW6aTcO35uD=s64",
      "userId": "16586051220000351113"
     },
     "user_tz": -180
    },
    "id": "qVVp6BnbD7fy",
    "outputId": "b0670dbd-06e7-4f9a-96bb-cbef9f9604ca"
   },
   "outputs": [
    {
     "data": {
      "text/plain": [
       "tensor([[0.3083, 0.9577, 0.0732,  ..., 0.1199, 0.4137, 0.1347],\n",
       "        [0.3379, 0.0818, 0.6006,  ..., 0.0430, 0.4499, 0.0460],\n",
       "        [0.5017, 0.0185, 0.4142,  ..., 0.4759, 0.0263, 0.4370],\n",
       "        ...,\n",
       "        [0.0559, 0.1087, 0.2077,  ..., 0.5617, 0.5298, 0.6181],\n",
       "        [0.5342, 0.8853, 0.4117,  ..., 0.2828, 0.9102, 0.2873],\n",
       "        [0.0110, 0.8351, 0.8053,  ..., 0.5667, 0.7524, 0.9979]],\n",
       "       device='cuda:0')"
      ]
     },
     "execution_count": 108,
     "metadata": {
      "tags": []
     },
     "output_type": "execute_result"
    }
   ],
   "source": [
    "device = torch.device(\"cuda:0\")\n",
    "x = x.to(device)\n",
    "x"
   ]
  },
  {
   "cell_type": "markdown",
   "metadata": {
    "colab_type": "text",
    "id": "dI73B59PYKCg"
   },
   "source": [
    "Let's multiply two tensors on GPU and then move the result on the CPU:"
   ]
  },
  {
   "cell_type": "code",
   "execution_count": 0,
   "metadata": {
    "colab": {},
    "colab_type": "code",
    "id": "KS4QxJJoYKCg"
   },
   "outputs": [],
   "source": [
    "a = torch.FloatTensor(10000, 10000).uniform_()\n",
    "b = torch.FloatTensor(10000, 10000).uniform_()\n",
    "c = a.cuda().mul(b.cuda()).cpu()"
   ]
  },
  {
   "cell_type": "code",
   "execution_count": 111,
   "metadata": {
    "colab": {
     "base_uri": "https://localhost:8080/",
     "height": 142
    },
    "colab_type": "code",
    "executionInfo": {
     "elapsed": 600,
     "status": "ok",
     "timestamp": 1587733987544,
     "user": {
      "displayName": "Артём Чумаченко",
      "photoUrl": "https://lh3.googleusercontent.com/a-/AOh14GgR2sxoXN9SKFaMK_eYAT7p7tjaPjW6aTcO35uD=s64",
      "userId": "16586051220000351113"
     },
     "user_tz": -180
    },
    "id": "1ImlgEbwYKCg",
    "outputId": "4c5149ff-15dc-4178-d7e2-2f109017dd15"
   },
   "outputs": [
    {
     "data": {
      "text/plain": [
       "tensor([[0.1990, 0.1143, 0.4019,  ..., 0.6637, 0.1303, 0.0817],\n",
       "        [0.1741, 0.5729, 0.2258,  ..., 0.2122, 0.0960, 0.5228],\n",
       "        [0.0641, 0.0613, 0.2574,  ..., 0.1792, 0.1117, 0.0561],\n",
       "        ...,\n",
       "        [0.2634, 0.0859, 0.8293,  ..., 0.6498, 0.1185, 0.0751],\n",
       "        [0.5373, 0.3415, 0.0142,  ..., 0.2776, 0.0874, 0.1872],\n",
       "        [0.0036, 0.2127, 0.3520,  ..., 0.6136, 0.3245, 0.5971]])"
      ]
     },
     "execution_count": 111,
     "metadata": {
      "tags": []
     },
     "output_type": "execute_result"
    }
   ],
   "source": [
    "c"
   ]
  },
  {
   "cell_type": "code",
   "execution_count": 112,
   "metadata": {
    "colab": {
     "base_uri": "https://localhost:8080/",
     "height": 142
    },
    "colab_type": "code",
    "executionInfo": {
     "elapsed": 1087,
     "status": "ok",
     "timestamp": 1587733992637,
     "user": {
      "displayName": "Артём Чумаченко",
      "photoUrl": "https://lh3.googleusercontent.com/a-/AOh14GgR2sxoXN9SKFaMK_eYAT7p7tjaPjW6aTcO35uD=s64",
      "userId": "16586051220000351113"
     },
     "user_tz": -180
    },
    "id": "4DAN9MhDYKCh",
    "outputId": "fdce3163-dfed-4122-e927-1095a59bdab7"
   },
   "outputs": [
    {
     "data": {
      "text/plain": [
       "tensor([[0.5282, 0.1570, 0.6911,  ..., 0.6895, 0.5619, 0.6436],\n",
       "        [0.7667, 0.6388, 0.3780,  ..., 0.8380, 0.7310, 0.8548],\n",
       "        [0.1553, 0.9641, 0.5664,  ..., 0.9211, 0.9410, 0.5589],\n",
       "        ...,\n",
       "        [0.7093, 0.3105, 0.8634,  ..., 0.8965, 0.6181, 0.7064],\n",
       "        [0.7747, 0.3920, 0.0376,  ..., 0.6599, 0.2116, 0.4994],\n",
       "        [0.2417, 0.3133, 0.7832,  ..., 0.8626, 0.6211, 0.6621]])"
      ]
     },
     "execution_count": 112,
     "metadata": {
      "tags": []
     },
     "output_type": "execute_result"
    }
   ],
   "source": [
    "a"
   ]
  },
  {
   "cell_type": "markdown",
   "metadata": {
    "colab_type": "text",
    "id": "xWc-PiA9YKCi"
   },
   "source": [
    "Tensors placed on CPU and tensors placed on GPU are unavailable for each other:"
   ]
  },
  {
   "cell_type": "code",
   "execution_count": 0,
   "metadata": {
    "colab": {},
    "colab_type": "code",
    "id": "1lwV1sgSYKCi"
   },
   "outputs": [],
   "source": [
    "a = torch.FloatTensor(10000, 10000).uniform_().cpu()\n",
    "b = torch.FloatTensor(10000, 10000).uniform_().cuda()"
   ]
  },
  {
   "cell_type": "code",
   "execution_count": 114,
   "metadata": {
    "colab": {
     "base_uri": "https://localhost:8080/",
     "height": 170
    },
    "colab_type": "code",
    "executionInfo": {
     "elapsed": 1062,
     "status": "error",
     "timestamp": 1587734017278,
     "user": {
      "displayName": "Артём Чумаченко",
      "photoUrl": "https://lh3.googleusercontent.com/a-/AOh14GgR2sxoXN9SKFaMK_eYAT7p7tjaPjW6aTcO35uD=s64",
      "userId": "16586051220000351113"
     },
     "user_tz": -180
    },
    "id": "G6tYdYtTYKCj",
    "outputId": "e18b7399-e66c-4c23-d245-0f0202f91ff3"
   },
   "outputs": [
    {
     "ename": "RuntimeError",
     "evalue": "ignored",
     "output_type": "error",
     "traceback": [
      "\u001b[0;31m---------------------------------------------------------------------------\u001b[0m",
      "\u001b[0;31mRuntimeError\u001b[0m                              Traceback (most recent call last)",
      "\u001b[0;32m<ipython-input-114-bd58363a63fc>\u001b[0m in \u001b[0;36m<module>\u001b[0;34m()\u001b[0m\n\u001b[0;32m----> 1\u001b[0;31m \u001b[0ma\u001b[0m \u001b[0;34m+\u001b[0m \u001b[0mb\u001b[0m\u001b[0;34m\u001b[0m\u001b[0;34m\u001b[0m\u001b[0m\n\u001b[0m",
      "\u001b[0;31mRuntimeError\u001b[0m: expected device cpu but got device cuda:0"
     ]
    }
   ],
   "source": [
    "a + b"
   ]
  },
  {
   "cell_type": "markdown",
   "metadata": {
    "colab_type": "text",
    "id": "QEtwaIxDYKCk"
   },
   "source": [
    "Example of working with GPU:"
   ]
  },
  {
   "cell_type": "code",
   "execution_count": 115,
   "metadata": {
    "colab": {
     "base_uri": "https://localhost:8080/",
     "height": 1000
    },
    "colab_type": "code",
    "executionInfo": {
     "elapsed": 1108,
     "status": "ok",
     "timestamp": 1587734037901,
     "user": {
      "displayName": "Артём Чумаченко",
      "photoUrl": "https://lh3.googleusercontent.com/a-/AOh14GgR2sxoXN9SKFaMK_eYAT7p7tjaPjW6aTcO35uD=s64",
      "userId": "16586051220000351113"
     },
     "user_tz": -180
    },
    "id": "bJgVfAbUYKCk",
    "outputId": "9db87f82-b0c5-42f5-b617-cef91da73d38",
    "scrolled": true
   },
   "outputs": [
    {
     "name": "stdout",
     "output_type": "stream",
     "text": [
      "tensor([[[1.3098, 1.2495, 1.8835, 1.1609, 1.1334],\n",
      "         [1.6775, 1.7759, 1.3242, 1.8585, 1.4904],\n",
      "         [1.0086, 1.1526, 1.4563, 1.8201, 1.6402],\n",
      "         [1.2870, 1.5524, 1.9853, 1.7633, 1.3908],\n",
      "         [1.8437, 1.1187, 1.9908, 1.3566, 1.2443]],\n",
      "\n",
      "        [[1.8918, 1.4283, 1.5924, 1.0035, 1.0006],\n",
      "         [1.6186, 1.4002, 1.5902, 1.4397, 1.7924],\n",
      "         [1.6997, 1.9405, 1.9928, 1.6983, 1.0474],\n",
      "         [1.8770, 1.3165, 1.6411, 1.4522, 1.3426],\n",
      "         [1.2236, 1.7212, 1.6108, 1.4015, 1.9996]],\n",
      "\n",
      "        [[1.3418, 1.8569, 1.4725, 1.3595, 1.4158],\n",
      "         [1.5014, 1.9926, 1.7145, 1.9734, 1.4256],\n",
      "         [1.7135, 1.3581, 1.9044, 1.7120, 1.6148],\n",
      "         [1.1567, 1.9304, 1.9651, 1.9584, 1.9841],\n",
      "         [1.4924, 1.4344, 1.8355, 1.1868, 1.1142]],\n",
      "\n",
      "        [[1.2465, 1.7279, 1.6398, 1.3599, 1.1269],\n",
      "         [1.6679, 1.2096, 1.7393, 1.3119, 1.2412],\n",
      "         [1.2961, 1.4132, 1.4495, 1.5544, 1.0400],\n",
      "         [1.4769, 1.0208, 1.1866, 1.1641, 1.0400],\n",
      "         [1.9553, 1.2474, 1.8047, 1.4166, 1.7433]],\n",
      "\n",
      "        [[1.3528, 1.3231, 1.1245, 1.0217, 1.6108],\n",
      "         [1.5066, 1.8052, 1.7601, 1.5161, 1.0809],\n",
      "         [1.7818, 1.4350, 1.6035, 1.0021, 1.0874],\n",
      "         [1.4204, 1.9307, 1.5808, 1.3318, 1.5118],\n",
      "         [1.6611, 1.7863, 1.1461, 1.0649, 1.2710]]], device='cuda:0')\n",
      "tensor([[[1.3098, 1.2495, 1.8835, 1.1609, 1.1334],\n",
      "         [1.6775, 1.7759, 1.3242, 1.8585, 1.4904],\n",
      "         [1.0086, 1.1526, 1.4563, 1.8201, 1.6402],\n",
      "         [1.2870, 1.5524, 1.9853, 1.7633, 1.3908],\n",
      "         [1.8437, 1.1187, 1.9908, 1.3566, 1.2443]],\n",
      "\n",
      "        [[1.8918, 1.4283, 1.5924, 1.0035, 1.0006],\n",
      "         [1.6186, 1.4002, 1.5902, 1.4397, 1.7924],\n",
      "         [1.6997, 1.9405, 1.9928, 1.6983, 1.0474],\n",
      "         [1.8770, 1.3165, 1.6411, 1.4522, 1.3426],\n",
      "         [1.2236, 1.7212, 1.6108, 1.4015, 1.9996]],\n",
      "\n",
      "        [[1.3418, 1.8569, 1.4725, 1.3595, 1.4158],\n",
      "         [1.5014, 1.9926, 1.7145, 1.9734, 1.4256],\n",
      "         [1.7135, 1.3581, 1.9044, 1.7120, 1.6148],\n",
      "         [1.1567, 1.9304, 1.9651, 1.9584, 1.9841],\n",
      "         [1.4924, 1.4344, 1.8355, 1.1868, 1.1142]],\n",
      "\n",
      "        [[1.2465, 1.7279, 1.6398, 1.3599, 1.1269],\n",
      "         [1.6679, 1.2096, 1.7393, 1.3119, 1.2412],\n",
      "         [1.2961, 1.4132, 1.4495, 1.5544, 1.0400],\n",
      "         [1.4769, 1.0208, 1.1866, 1.1641, 1.0400],\n",
      "         [1.9553, 1.2474, 1.8047, 1.4166, 1.7433]],\n",
      "\n",
      "        [[1.3528, 1.3231, 1.1245, 1.0217, 1.6108],\n",
      "         [1.5066, 1.8052, 1.7601, 1.5161, 1.0809],\n",
      "         [1.7818, 1.4350, 1.6035, 1.0021, 1.0874],\n",
      "         [1.4204, 1.9307, 1.5808, 1.3318, 1.5118],\n",
      "         [1.6611, 1.7863, 1.1461, 1.0649, 1.2710]]], dtype=torch.float64)\n"
     ]
    }
   ],
   "source": [
    "x = torch.FloatTensor(5, 5, 5).uniform_()\n",
    "\n",
    "# check for CUDA availability (NVIDIA GPU)\n",
    "if torch.cuda.is_available():\n",
    "    # get the CUDA device name\n",
    "    device = torch.device('cuda')          # CUDA-device object\n",
    "    y = torch.ones_like(x, device=device)  # create a tensor on GPU\n",
    "    x = x.to(device)                       # or just `.to(\"cuda\")`\n",
    "    z = x + y\n",
    "    print(z)\n",
    "    # you can set the type while `.to` operation\n",
    "    print(z.to(\"cpu\", torch.double))"
   ]
  },
  {
   "cell_type": "markdown",
   "metadata": {
    "colab_type": "text",
    "id": "iFg82MJIYKCl"
   },
   "source": [
    "<h3 style=\"text-align: center;\">Autograd<b></b></h3>"
   ]
  },
  {
   "cell_type": "markdown",
   "metadata": {
    "colab_type": "text",
    "id": "udpOWYK-YKCm"
   },
   "source": [
    "The autograd package provides automatic differentiation for all operations on Tensors. It is a define-by-run framework, which means that your backprop is defined by how your code is run, and that every single iteration can be different."
   ]
  },
  {
   "cell_type": "markdown",
   "metadata": {
    "colab_type": "text",
    "id": "AEDz971fYKCn"
   },
   "source": [
    "The examples:"
   ]
  },
  {
   "cell_type": "code",
   "execution_count": 162,
   "metadata": {
    "colab": {},
    "colab_type": "code",
    "id": "rYWqXsAjYKCn"
   },
   "outputs": [
    {
     "ename": "AssertionError",
     "evalue": "Torch not compiled with CUDA enabled",
     "output_type": "error",
     "traceback": [
      "\u001b[1;31m---------------------------------------------------------------------------\u001b[0m",
      "\u001b[1;31mAssertionError\u001b[0m                            Traceback (most recent call last)",
      "\u001b[1;32m<ipython-input-162-f95db600b7a8>\u001b[0m in \u001b[0;36m<module>\u001b[1;34m\u001b[0m\n\u001b[0;32m     10\u001b[0m \u001b[1;31m# Setting requires_grad=False indicates that we do not need to compute gradients\u001b[0m\u001b[1;33m\u001b[0m\u001b[1;33m\u001b[0m\u001b[1;33m\u001b[0m\u001b[0m\n\u001b[0;32m     11\u001b[0m \u001b[1;31m# with respect to these Tensors during the backward pass.\u001b[0m\u001b[1;33m\u001b[0m\u001b[1;33m\u001b[0m\u001b[1;33m\u001b[0m\u001b[0m\n\u001b[1;32m---> 12\u001b[1;33m \u001b[0mx\u001b[0m \u001b[1;33m=\u001b[0m \u001b[0mtorch\u001b[0m\u001b[1;33m.\u001b[0m\u001b[0mrandn\u001b[0m\u001b[1;33m(\u001b[0m\u001b[0mN\u001b[0m\u001b[1;33m,\u001b[0m \u001b[0mD_in\u001b[0m\u001b[1;33m,\u001b[0m \u001b[0mdevice\u001b[0m\u001b[1;33m=\u001b[0m\u001b[0mdevice\u001b[0m\u001b[1;33m,\u001b[0m \u001b[0mdtype\u001b[0m\u001b[1;33m=\u001b[0m\u001b[0mdtype\u001b[0m\u001b[1;33m)\u001b[0m\u001b[1;33m\u001b[0m\u001b[1;33m\u001b[0m\u001b[0m\n\u001b[0m\u001b[0;32m     13\u001b[0m \u001b[0my\u001b[0m \u001b[1;33m=\u001b[0m \u001b[0mtorch\u001b[0m\u001b[1;33m.\u001b[0m\u001b[0mrandn\u001b[0m\u001b[1;33m(\u001b[0m\u001b[0mN\u001b[0m\u001b[1;33m,\u001b[0m \u001b[0mD_out\u001b[0m\u001b[1;33m,\u001b[0m \u001b[0mdevice\u001b[0m\u001b[1;33m=\u001b[0m\u001b[0mdevice\u001b[0m\u001b[1;33m,\u001b[0m \u001b[0mdtype\u001b[0m\u001b[1;33m=\u001b[0m\u001b[0mdtype\u001b[0m\u001b[1;33m)\u001b[0m\u001b[1;33m\u001b[0m\u001b[1;33m\u001b[0m\u001b[0m\n\u001b[0;32m     14\u001b[0m \u001b[1;33m\u001b[0m\u001b[0m\n",
      "\u001b[1;32m~\\Anaconda3\\lib\\site-packages\\torch\\cuda\\__init__.py\u001b[0m in \u001b[0;36m_lazy_init\u001b[1;34m()\u001b[0m\n\u001b[0;32m    147\u001b[0m             raise RuntimeError(\n\u001b[0;32m    148\u001b[0m                 \"Cannot re-initialize CUDA in forked subprocess. \" + msg)\n\u001b[1;32m--> 149\u001b[1;33m         \u001b[0m_check_driver\u001b[0m\u001b[1;33m(\u001b[0m\u001b[1;33m)\u001b[0m\u001b[1;33m\u001b[0m\u001b[1;33m\u001b[0m\u001b[0m\n\u001b[0m\u001b[0;32m    150\u001b[0m         \u001b[1;32mif\u001b[0m \u001b[0m_cudart\u001b[0m \u001b[1;32mis\u001b[0m \u001b[1;32mNone\u001b[0m\u001b[1;33m:\u001b[0m\u001b[1;33m\u001b[0m\u001b[1;33m\u001b[0m\u001b[0m\n\u001b[0;32m    151\u001b[0m             raise AssertionError(\n",
      "\u001b[1;32m~\\Anaconda3\\lib\\site-packages\\torch\\cuda\\__init__.py\u001b[0m in \u001b[0;36m_check_driver\u001b[1;34m()\u001b[0m\n\u001b[0;32m     45\u001b[0m \u001b[1;32mdef\u001b[0m \u001b[0m_check_driver\u001b[0m\u001b[1;33m(\u001b[0m\u001b[1;33m)\u001b[0m\u001b[1;33m:\u001b[0m\u001b[1;33m\u001b[0m\u001b[1;33m\u001b[0m\u001b[0m\n\u001b[0;32m     46\u001b[0m     \u001b[1;32mif\u001b[0m \u001b[1;32mnot\u001b[0m \u001b[0mhasattr\u001b[0m\u001b[1;33m(\u001b[0m\u001b[0mtorch\u001b[0m\u001b[1;33m.\u001b[0m\u001b[0m_C\u001b[0m\u001b[1;33m,\u001b[0m \u001b[1;34m'_cuda_isDriverSufficient'\u001b[0m\u001b[1;33m)\u001b[0m\u001b[1;33m:\u001b[0m\u001b[1;33m\u001b[0m\u001b[1;33m\u001b[0m\u001b[0m\n\u001b[1;32m---> 47\u001b[1;33m         \u001b[1;32mraise\u001b[0m \u001b[0mAssertionError\u001b[0m\u001b[1;33m(\u001b[0m\u001b[1;34m\"Torch not compiled with CUDA enabled\"\u001b[0m\u001b[1;33m)\u001b[0m\u001b[1;33m\u001b[0m\u001b[1;33m\u001b[0m\u001b[0m\n\u001b[0m\u001b[0;32m     48\u001b[0m     \u001b[1;32mif\u001b[0m \u001b[1;32mnot\u001b[0m \u001b[0mtorch\u001b[0m\u001b[1;33m.\u001b[0m\u001b[0m_C\u001b[0m\u001b[1;33m.\u001b[0m\u001b[0m_cuda_isDriverSufficient\u001b[0m\u001b[1;33m(\u001b[0m\u001b[1;33m)\u001b[0m\u001b[1;33m:\u001b[0m\u001b[1;33m\u001b[0m\u001b[1;33m\u001b[0m\u001b[0m\n\u001b[0;32m     49\u001b[0m         \u001b[1;32mif\u001b[0m \u001b[0mtorch\u001b[0m\u001b[1;33m.\u001b[0m\u001b[0m_C\u001b[0m\u001b[1;33m.\u001b[0m\u001b[0m_cuda_getDriverVersion\u001b[0m\u001b[1;33m(\u001b[0m\u001b[1;33m)\u001b[0m \u001b[1;33m==\u001b[0m \u001b[1;36m0\u001b[0m\u001b[1;33m:\u001b[0m\u001b[1;33m\u001b[0m\u001b[1;33m\u001b[0m\u001b[0m\n",
      "\u001b[1;31mAssertionError\u001b[0m: Torch not compiled with CUDA enabled"
     ]
    }
   ],
   "source": [
    "dtype = torch.float\n",
    "device = torch.device(\"cuda:0\")\n",
    "# device = torch.device(\"cuda:0\") # Uncomment this to run on GPU\n",
    "\n",
    "# N is batch size; D_in is input dimension;\n",
    "# H is hidden dimension; D_out is output dimension.\n",
    "N, D_in, H, D_out = 64, 3, 3, 10\n",
    "\n",
    "# Create random Tensors to hold input and outputs.\n",
    "# Setting requires_grad=False indicates that we do not need to compute gradients\n",
    "# with respect to these Tensors during the backward pass.\n",
    "x = torch.randn(N, D_in, device=device, dtype=dtype)\n",
    "y = torch.randn(N, D_out, device=device, dtype=dtype)\n",
    "\n",
    "# Create random Tensors for weights.\n",
    "# Setting requires_grad=True indicates that we want to compute gradients with\n",
    "# respect to these Tensors during the backward pass.\n",
    "w1 = torch.randn(D_in, H, device=device, dtype=dtype, requires_grad=True)\n",
    "w2 = torch.randn(H, D_out, device=device, dtype=dtype, requires_grad=True)\n",
    "\n",
    "# x = torch.FloatTensor(3, 1).uniform_()\n",
    "# y = torch.FloatTensor(3, 1).uniform_()\n",
    "# w = torch.FloatTensor(3, 3).uniform_() \n",
    "# b = torch.FloatTensor(3, 1).uniform_()\n",
    "\n",
    "y_pred = (x @ w1).clamp(min=0).mm(w2)\n",
    "\n",
    "loss = (y_pred - y).pow(2).sum()\n",
    "# calculate the gradients\n",
    "loss.backward()"
   ]
  },
  {
   "cell_type": "code",
   "execution_count": 163,
   "metadata": {
    "colab": {
     "base_uri": "https://localhost:8080/",
     "height": 35
    },
    "colab_type": "code",
    "executionInfo": {
     "elapsed": 1020,
     "status": "ok",
     "timestamp": 1587734229254,
     "user": {
      "displayName": "Артём Чумаченко",
      "photoUrl": "https://lh3.googleusercontent.com/a-/AOh14GgR2sxoXN9SKFaMK_eYAT7p7tjaPjW6aTcO35uD=s64",
      "userId": "16586051220000351113"
     },
     "user_tz": -180
    },
    "id": "T3vfuF-wXS8O",
    "outputId": "2c0c4958-4c68-42ab-e7d8-2f3dfe93d028"
   },
   "outputs": [
    {
     "ename": "NameError",
     "evalue": "name 'y_pred' is not defined",
     "output_type": "error",
     "traceback": [
      "\u001b[1;31m---------------------------------------------------------------------------\u001b[0m",
      "\u001b[1;31mNameError\u001b[0m                                 Traceback (most recent call last)",
      "\u001b[1;32m<ipython-input-163-5b5e52f195ad>\u001b[0m in \u001b[0;36m<module>\u001b[1;34m\u001b[0m\n\u001b[1;32m----> 1\u001b[1;33m \u001b[0mprint\u001b[0m\u001b[1;33m(\u001b[0m\u001b[1;33m(\u001b[0m\u001b[0my_pred\u001b[0m \u001b[1;33m-\u001b[0m \u001b[0my\u001b[0m\u001b[1;33m)\u001b[0m\u001b[1;33m.\u001b[0m\u001b[0mpow\u001b[0m\u001b[1;33m(\u001b[0m\u001b[1;36m2\u001b[0m\u001b[1;33m)\u001b[0m\u001b[1;33m.\u001b[0m\u001b[0msum\u001b[0m\u001b[1;33m(\u001b[0m\u001b[1;33m)\u001b[0m\u001b[1;33m)\u001b[0m\u001b[1;33m\u001b[0m\u001b[1;33m\u001b[0m\u001b[0m\n\u001b[0m",
      "\u001b[1;31mNameError\u001b[0m: name 'y_pred' is not defined"
     ]
    }
   ],
   "source": [
    "print((y_pred - y).pow(2).sum())"
   ]
  },
  {
   "cell_type": "code",
   "execution_count": 164,
   "metadata": {
    "colab": {},
    "colab_type": "code",
    "id": "jr19Gh3ZU2Ws"
   },
   "outputs": [
    {
     "ename": "NameError",
     "evalue": "name 'loss' is not defined",
     "output_type": "error",
     "traceback": [
      "\u001b[1;31m---------------------------------------------------------------------------\u001b[0m",
      "\u001b[1;31mNameError\u001b[0m                                 Traceback (most recent call last)",
      "\u001b[1;32m<ipython-input-164-09a6243c8d35>\u001b[0m in \u001b[0;36m<module>\u001b[1;34m\u001b[0m\n\u001b[1;32m----> 1\u001b[1;33m \u001b[0mloss\u001b[0m\u001b[1;33m.\u001b[0m\u001b[0mgrad\u001b[0m\u001b[1;33m\u001b[0m\u001b[1;33m\u001b[0m\u001b[0m\n\u001b[0m",
      "\u001b[1;31mNameError\u001b[0m: name 'loss' is not defined"
     ]
    }
   ],
   "source": [
    "loss.grad"
   ]
  },
  {
   "cell_type": "code",
   "execution_count": 121,
   "metadata": {
    "colab": {
     "base_uri": "https://localhost:8080/",
     "height": 71
    },
    "colab_type": "code",
    "executionInfo": {
     "elapsed": 2393,
     "status": "ok",
     "timestamp": 1587734245162,
     "user": {
      "displayName": "Артём Чумаченко",
      "photoUrl": "https://lh3.googleusercontent.com/a-/AOh14GgR2sxoXN9SKFaMK_eYAT7p7tjaPjW6aTcO35uD=s64",
      "userId": "16586051220000351113"
     },
     "user_tz": -180
    },
    "id": "qLkn5C7JYKCp",
    "outputId": "bd4fd191-aba9-4722-d903-6f6765639a7d"
   },
   "outputs": [
    {
     "data": {
      "text/plain": [
       "tensor([[ 228.0387,  184.9666,   36.8398],\n",
       "        [ 541.0306, -321.7917,  -38.8385],\n",
       "        [  19.1884, -647.8582, -625.7786]], device='cuda:0')"
      ]
     },
     "execution_count": 121,
     "metadata": {
      "tags": []
     },
     "output_type": "execute_result"
    }
   ],
   "source": [
    "w1.grad"
   ]
  },
  {
   "cell_type": "code",
   "execution_count": 0,
   "metadata": {
    "colab": {},
    "colab_type": "code",
    "id": "CYkrFbD5YKCq"
   },
   "outputs": [],
   "source": [
    "x.grad"
   ]
  },
  {
   "cell_type": "code",
   "execution_count": 0,
   "metadata": {
    "colab": {},
    "colab_type": "code",
    "id": "ouMNnbtXYKCr"
   },
   "outputs": [],
   "source": [
    "y.grad"
   ]
  },
  {
   "cell_type": "markdown",
   "metadata": {
    "colab_type": "text",
    "id": "DIsqxWIvYKCs"
   },
   "source": [
    "**NOTE:** the gradients are placed into the `.grad` field of tensors (variables) on which gradients were calculated. Gradients *are not placed* in the variable `loss` here!"
   ]
  },
  {
   "cell_type": "code",
   "execution_count": 124,
   "metadata": {
    "colab": {
     "base_uri": "https://localhost:8080/",
     "height": 71
    },
    "colab_type": "code",
    "executionInfo": {
     "elapsed": 1849,
     "status": "ok",
     "timestamp": 1587734257207,
     "user": {
      "displayName": "Артём Чумаченко",
      "photoUrl": "https://lh3.googleusercontent.com/a-/AOh14GgR2sxoXN9SKFaMK_eYAT7p7tjaPjW6aTcO35uD=s64",
      "userId": "16586051220000351113"
     },
     "user_tz": -180
    },
    "id": "5wU_TFedYKCt",
    "outputId": "3959f7f8-ee56-44c6-eaaa-b6af62f05acf"
   },
   "outputs": [
    {
     "data": {
      "text/plain": [
       "tensor([[ 0.5652,  0.3667,  0.1390],\n",
       "        [ 0.9769, -0.5155,  0.0897],\n",
       "        [ 0.0338, -0.8335, -0.8259]], device='cuda:0', requires_grad=True)"
      ]
     },
     "execution_count": 124,
     "metadata": {
      "tags": []
     },
     "output_type": "execute_result"
    }
   ],
   "source": [
    "w1"
   ]
  },
  {
   "cell_type": "markdown",
   "metadata": {
    "colab_type": "text",
    "id": "J094WEHQYKCv"
   },
   "source": [
    "<h3 style=\"text-align: center;\">Further reading:<b></b></h3>"
   ]
  },
  {
   "cell_type": "markdown",
   "metadata": {
    "colab_type": "text",
    "id": "ftVUTfvUYKCv"
   },
   "source": [
    "*1). Official PyTorch tutorials: https://pytorch.org/tutorials/beginner/blitz/tensor_tutorial.html#sphx-glr-beginner-blitz-tensor-tutorial-py*"
   ]
  },
  {
   "cell_type": "markdown",
   "metadata": {
    "colab_type": "text",
    "id": "ovymy5F6YKCw"
   },
   "source": [
    "*2). arXiv article about the deep learning frameworks comparison: https://arxiv.org/pdf/1511.06435.pdf*"
   ]
  },
  {
   "cell_type": "markdown",
   "metadata": {
    "colab_type": "text",
    "id": "VXEEowQAYKCx"
   },
   "source": [
    "*3). Useful repo with different tutorials: https://github.com/yunjey/pytorch-tutorial*"
   ]
  },
  {
   "cell_type": "markdown",
   "metadata": {
    "colab_type": "text",
    "id": "9cROZcrYYKC0"
   },
   "source": [
    "*4). Facebook AI Research (main contributor of PyTorch) website: https://facebook.ai/developers/tools*"
   ]
  }
 ],
 "metadata": {
  "accelerator": "GPU",
  "colab": {
   "collapsed_sections": [],
   "name": "[seminar]pytorch_basics.ipynb",
   "provenance": [
    {
     "file_id": "1xBkndRb9dYUgCtS98x2bCF170VFMMubl",
     "timestamp": 1572021903909
    }
   ]
  },
  "kernelspec": {
   "display_name": "Python 3",
   "language": "python",
   "name": "python3"
  },
  "language_info": {
   "codemirror_mode": {
    "name": "ipython",
    "version": 3
   },
   "file_extension": ".py",
   "mimetype": "text/x-python",
   "name": "python",
   "nbconvert_exporter": "python",
   "pygments_lexer": "ipython3",
   "version": "3.7.7"
  }
 },
 "nbformat": 4,
 "nbformat_minor": 1
}
