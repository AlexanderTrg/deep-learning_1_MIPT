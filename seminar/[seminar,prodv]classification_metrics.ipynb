{
 "cells": [
  {
   "cell_type": "markdown",
   "metadata": {
    "colab_type": "text",
    "id": "2Jrdln-ZZ7D5"
   },
   "source": [
    "<p style=\"align: center;\"><img align=center src=\"https://s8.hostingkartinok.com/uploads/images/2018/08/308b49fcfbc619d629fe4604bceb67ac.jpg\" width=500 height=450/></p>\n",
    "\n",
    "<h3 style=\"text-align: center;\"><b>\"Глубокое обучение\". Продвинутый поток</b></h3>\n",
    "\n",
    "<h2 style=\"text-align: center;\"><b>Семинар 5. Метрики в задаче классификации</b></h2>\n",
    "\n",
    "Две основные задачи машинного обучения --- классификация и регрессия. C метрикой для задачи регрессии всё ясно: квадратичная функция потерь, $$f(y_{true}, y_{pred}) = (y_{true} - y_{pred})^2.$$\n",
    "\n",
    "Метрик в задаче классификации можно придумать великое множество.\n",
    "\n",
    "## Метрики, связанные с бинарными лейблами"
   ]
  },
  {
   "cell_type": "markdown",
   "metadata": {
    "colab_type": "text",
    "id": "aaqH7IHIZ7D8"
   },
   "source": [
    "Предположим, что мы решаем задачу кредитного скоринга (решаем, кому выдавать кредит, кому нет). Мы получили следующие ответы алгоритма: \n",
    "![alt text](https://drive.google.com/uc?id=1TvLmB3dHCAyuE6XHB33PGyjF0cfRHnrg)"
   ]
  },
  {
   "cell_type": "markdown",
   "metadata": {
    "colab_type": "text",
    "id": "B58qNQdoZ7D9"
   },
   "source": [
    "Самое логичное решение для измерения качества --- посчитать процент совпадающих ответов. Такая метрика называется accuracy. В данном случае accuracy равна 60%. Плохо или хорошо?\n",
    "\n",
    "\"\n",
    "\n",
    "\"\n",
    "\n",
    "\"\n",
    "\n",
    "\"\n",
    "\n",
    "\"\n",
    "\n",
    "\"\n",
    "\n",
    "\"\n",
    "\n",
    "\"\n",
    "\n",
    "\"\n",
    "\n",
    "\"\n",
    "\n",
    "\"\n",
    "\n",
    "\"\n",
    "\n",
    "\"\n",
    "\n",
    "\"\n",
    "\n",
    "\"\n",
    "\n",
    "Тут приходит к нам новый сотрудник и заявляет, что повысит accuracy на 10%. Он предъявляет такой результат на тесте:\n",
    "\n",
    "![alt text](https://drive.google.com/uc?id=1jHgOXZ-XWtuuqSwG1L7CEK-goggBS3hB)\n",
    "\n",
    "Accuracy повысилась! Но теперь банк выдаёт кредит всем заёмщикам. Вывод: для многих задач нужны другие метрики. Их разработкой мы и займёмся."
   ]
  },
  {
   "cell_type": "markdown",
   "metadata": {
    "colab_type": "text",
    "id": "7-P0ekLfZ7D-"
   },
   "source": [
    "![alt text](https://drive.google.com/uc?id=1U8t8CVtBD-3PJJsi8oAQjrdTGEjZCnpu)"
   ]
  },
  {
   "cell_type": "markdown",
   "metadata": {
    "colab_type": "text",
    "id": "H2Bst42YZ7EA"
   },
   "source": [
    "![alt text](https://drive.google.com/uc?id=1AfL-bqkd1lN66Fp1MJ70OxMMeVGwsn72)"
   ]
  },
  {
   "cell_type": "markdown",
   "metadata": {
    "colab_type": "text",
    "id": "cUY-4Ru_Z7EA"
   },
   "source": [
    "![alt text](https://drive.google.com/uc?id=1pNhgPjEiirfwelo2GrkYU5UlQwr2xwgd)"
   ]
  },
  {
   "cell_type": "markdown",
   "metadata": {
    "colab_type": "text",
    "id": "Kfu9H_hBZ7EC"
   },
   "source": [
    "### Precision\n",
    "Пример для Precision: кредитный скоринг. Нам не выгодно выдавать кредит (y_pred = 1) неблагонадёжным заёмщикам (y_true = 0). За такие ошибки (ошибки первого рода) нас штрафует метрика.\n",
    "\n",
    "\n",
    "### Recall\n",
    "Пример для Recall: поиск скрытых военных баз противника. Опасна ситуация, когда опасный объект (y_true = 1) не был идентифицирован как военная база (y_pred = 0)."
   ]
  },
  {
   "cell_type": "markdown",
   "metadata": {
    "colab_type": "text",
    "id": "Qf23ZYqdZ7ED"
   },
   "source": [
    "![alt text](https://drive.google.com/uc?id=1rqlgJdt62ZYQrqVYh4QJnHzW_5RgOnvS)"
   ]
  },
  {
   "cell_type": "markdown",
   "metadata": {
    "colab_type": "text",
    "id": "I0Wa1oF9Z7EE"
   },
   "source": [
    "### F-мера\n",
    "Комбинация precision и recall:\n",
    "\n",
    "![alt text](https://drive.google.com/uc?id=1XR8VW8To2K_6QL0xz2V5xnjkGVcBYPvB)"
   ]
  },
  {
   "cell_type": "markdown",
   "metadata": {
    "colab_type": "text",
    "id": "AhSrR3R-Z7EF"
   },
   "source": [
    "## Метрики, связанные с вероятностными ответами\n",
    "\n",
    "Мы уже сталкивались с алгоритмами, которые предсказывают не класс, а вероятность принадлежности к классу (например, линейная регрессия). Хотим ввести метрику, которая бы отражала качество такой \"вероятностной классификации\"."
   ]
  },
  {
   "cell_type": "markdown",
   "metadata": {
    "colab_type": "text",
    "id": "8B_q6Tg_H0ad"
   },
   "source": [
    "## ROC-кривая\n",
    "\n",
    "<img src=\"https://i.ibb.co/mvF5F8K/Screenshot-from-2020-03-17-22-03-26.png\" alt=\"Screenshot-from-2020-03-17-22-03-26\" border=\"0\" width=800>"
   ]
  },
  {
   "cell_type": "markdown",
   "metadata": {
    "colab_type": "text",
    "id": "F8c0T7sC5PtO"
   },
   "source": [
    "## ROC-AUC\n",
    "\n",
    "Метрика ROC-AUC определяется как площадь под ROC-кривой."
   ]
  },
  {
   "cell_type": "code",
   "execution_count": 1,
   "metadata": {
    "colab": {},
    "colab_type": "code",
    "id": "gFX1e-GYZ7EG"
   },
   "outputs": [],
   "source": [
    "import numpy as np"
   ]
  },
  {
   "cell_type": "code",
   "execution_count": 2,
   "metadata": {
    "colab": {},
    "colab_type": "code",
    "id": "r5Q_WXbL5gIc"
   },
   "outputs": [],
   "source": [
    "y_true = [1,1,0,1,1,1,1,0,1,0,1,0,0,0,1,0,0,0]\n",
    "y_pred = np.linspace(1, 0, len(y_true))"
   ]
  },
  {
   "cell_type": "code",
   "execution_count": 3,
   "metadata": {},
   "outputs": [
    {
     "data": {
      "text/plain": [
       "array([1.        , 0.94117647, 0.88235294, 0.82352941, 0.76470588,\n",
       "       0.70588235, 0.64705882, 0.58823529, 0.52941176, 0.47058824,\n",
       "       0.41176471, 0.35294118, 0.29411765, 0.23529412, 0.17647059,\n",
       "       0.11764706, 0.05882353, 0.        ])"
      ]
     },
     "execution_count": 3,
     "metadata": {},
     "output_type": "execute_result"
    }
   ],
   "source": [
    "y_pred"
   ]
  },
  {
   "cell_type": "code",
   "execution_count": 4,
   "metadata": {
    "colab": {},
    "colab_type": "code",
    "id": "fYTVjVbh5uw7"
   },
   "outputs": [],
   "source": [
    "from sklearn.metrics import roc_curve, roc_auc_score\n",
    "import matplotlib.pyplot as plt\n",
    "%matplotlib inline"
   ]
  },
  {
   "cell_type": "code",
   "execution_count": 5,
   "metadata": {},
   "outputs": [],
   "source": [
    "def curve(y_true,y_pred):\n",
    "    y_true = np.array(y_true)\n",
    "    y_pred = np.array(y_pred)\n",
    "    tpr = []\n",
    "    fpr = []\n",
    "    for thresh in np.linspace(0,1,100):\n",
    "        y_pred_label = (y_pred > thresh).astype(int)\n",
    "        tpr.append(((y_true == 1) & (y_true == y_pred_label)).sum()/(y_true == 1).sum())\n",
    "        fpr.append(((y_true == 0) & (y_true != y_pred_label)).sum()/(y_true == 0).sum())\n",
    "    # tpr максимизируем / fpr минимизируем    \n",
    "    return fpr, tpr\n"
   ]
  },
  {
   "cell_type": "code",
   "execution_count": 6,
   "metadata": {
    "colab": {
     "base_uri": "https://localhost:8080/",
     "height": 428
    },
    "colab_type": "code",
    "executionInfo": {
     "elapsed": 869,
     "status": "ok",
     "timestamp": 1584472466592,
     "user": {
      "displayName": "Григорий Лелейтнер",
      "photoUrl": "",
      "userId": "07179937308049589303"
     },
     "user_tz": -180
    },
    "id": "SSwmIiti6ADJ",
    "outputId": "7800ac1a-0630-41b5-b4ff-ab328658fe62"
   },
   "outputs": [
    {
     "data": {
      "image/png": "[encoded data removed]",
      "text/plain": [
       "<Figure size 720x504 with 1 Axes>"
      ]
     },
     "metadata": {
      "needs_background": "light"
     },
     "output_type": "display_data"
    }
   ],
   "source": [
    "auc = roc_auc_score(y_true, y_pred)\n",
    "\n",
    "\n",
    "plt.figure(figsize=(10,7))\n",
    "plt.plot(*roc_curve(y_true, y_pred)[:-1], label=(\"roc_auc=%.4f\") % auc)\n",
    "plt.plot([0, 1], [0, 1], '--', color='black')\n",
    "\n",
    "plt.grid()\n",
    "plt.legend()\n",
    "plt.show()"
   ]
  },
  {
   "cell_type": "code",
   "execution_count": 10,
   "metadata": {},
   "outputs": [
    {
     "data": {
      "image/png": "[encoded data removed]",
      "text/plain": [
       "<Figure size 720x504 with 1 Axes>"
      ]
     },
     "metadata": {
      "needs_background": "light"
     },
     "output_type": "display_data"
    }
   ],
   "source": [
    "plt.figure(figsize=(10,7))\n",
    "plt.plot(*curve(y_true, y_pred), label=(\"roc_auc=%.4f\") % 0)\n",
    "plt.plot([0, 1], [0, 1], '--', color='black')\n",
    "\n",
    "plt.grid()\n",
    "plt.legend()\n",
    "plt.show()"
   ]
  },
  {
   "cell_type": "code",
   "execution_count": 8,
   "metadata": {},
   "outputs": [
    {
     "data": {
      "text/plain": [
       "(array([0.        , 0.        , 0.        , 0.11111111, 0.11111111,\n",
       "        0.22222222, 0.22222222, 0.33333333, 0.33333333, 0.66666667,\n",
       "        0.66666667, 1.        ]),\n",
       " array([0.        , 0.11111111, 0.22222222, 0.22222222, 0.66666667,\n",
       "        0.66666667, 0.77777778, 0.77777778, 0.88888889, 0.88888889,\n",
       "        1.        , 1.        ]),\n",
       " array([2.        , 1.        , 0.94117647, 0.88235294, 0.64705882,\n",
       "        0.58823529, 0.52941176, 0.47058824, 0.41176471, 0.23529412,\n",
       "        0.17647059, 0.        ]))"
      ]
     },
     "execution_count": 8,
     "metadata": {},
     "output_type": "execute_result"
    }
   ],
   "source": [
    "roc_curve(y_true, y_pred)"
   ]
  },
  {
   "cell_type": "markdown",
   "metadata": {
    "colab_type": "text",
    "id": "Yg77fnfk620c"
   },
   "source": [
    "Порог для классификации определяется так, как вам нужно. Например, зная прибыль с надежного заемщика и убыток с ненадежного, можно определить порог выдачи кредита, максимизируя ожидаемую прибыль."
   ]
  }
 ],
 "metadata": {
  "colab": {
   "collapsed_sections": [],
   "name": "[seminar,prodv]classification_metrics.ipynb",
   "provenance": [],
   "toc_visible": true
  },
  "kernelspec": {
   "display_name": "Python 3",
   "language": "python",
   "name": "python3"
  },
  "language_info": {
   "codemirror_mode": {
    "name": "ipython",
    "version": 3
   },
   "file_extension": ".py",
   "mimetype": "text/x-python",
   "name": "python",
   "nbconvert_exporter": "python",
   "pygments_lexer": "ipython3",
   "version": "3.7.3"
  }
 },
 "nbformat": 4,
 "nbformat_minor": 1
}
